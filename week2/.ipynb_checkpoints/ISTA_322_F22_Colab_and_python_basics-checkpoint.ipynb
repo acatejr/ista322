{
 "cells": [
  {
   "cell_type": "markdown",
   "metadata": {
    "id": "uhS7vAenPWRg"
   },
   "source": [
    "# ISTA 322 Intro to Google Colab\n",
    "\n",
    "> Welcome to your first Jupyter Notebook of the course!  This is intended to be used via Google Colaboratory as it has most of the libraries we need preinstalled.  It's totally cloud based so it spins up a VM every time you open it.  If you're curious how it works and the resources it offers check out the [FAQ](https://research.google.com/colaboratory/faq.html).\n",
    "\n",
    "> You're welcome to go and just install Jupyter on your local machine.  You'll likely have more power that way, but you also will have to make sure you are able to install all the necessary libraries that we'll be using on your own.  I will provide support to make Colabratory work, but not local installs... you gotta do your own googling there!\n",
    "\n",
    "> The goal of this notebook is just to get everyone on the same page with Python. If people took my ESOC 214 class then you've done some of these actions in R.  If you only had ISTA 116 then this might be totally new to you. This isn't data engineering per-se, but it is laying the groundwork for different types of transforms.  So, if this is easy, then you get some more practice.  If it isn't, then really dig in and make sure you learn this stuff!\n",
    "\n"
   ]
  },
  {
   "cell_type": "markdown",
   "metadata": {
    "id": "kUdv0qgIR9lQ"
   },
   "source": [
    "## Let's start by loading in some libraries and then data\n",
    " \n",
    "> The assumption of this course is that you've taken one class using Python 3.  These basic libraries should be familiar to you from previous classes.  The nice part about Colab is that the majority of common libraries are already installed so you  just have to import and alias them. \n",
    " \n",
    "> **Note: **Later we'll learn how to permanently install external libraries as well as mount your google drive so you can access and save files.  No need for that now, though!\n",
    " \n",
    "> Let's get started!  For those of you who haven't used a Jupyter Notebook they're pretty simple.  To run cells just highlight/click into a cell and hit CTRL+Enter or Shift+Enter.  You can add cells if you just hover near the bottom of one and click the 'code' box.  "
   ]
  },
  {
   "cell_type": "code",
   "execution_count": 1,
   "metadata": {
    "id": "pFhSIEtPRvdB"
   },
   "outputs": [],
   "source": [
    "# Start by importing pandas, numpy, and matplotlib\n",
    "# If you're new to python you'll also notice that I'm saying 'as' and then giving a shorter name such as 'pd'.\n",
    "# This aliasing is really common as you don't want to have to type out full paths to libraries every time  you use them.\n",
    "# You can alias using any name, but there are common conventions for most that we'll be sticking to. \n",
    "\n",
    "import pandas as pd\n",
    "import numpy as np\n",
    "import matplotlib.pyplot as plt"
   ]
  },
  {
   "cell_type": "code",
   "execution_count": 2,
   "metadata": {
    "id": "g2IUUJHWUNKN"
   },
   "outputs": [],
   "source": [
    "# Bring in hourly aggregates of NYC taxi ride data - this is the type thing DE's work to create\n",
    "\n",
    "# We'll use panda's read_csv function. We first call our pandas library via pd\n",
    "# Then we call the function read_csv()\n",
    "# Note that we're just pulling in a CSV file from the web\n",
    "\n",
    "rides = pd.read_csv(\"https://docs.google.com/spreadsheets/d/1tHArxAroG14mKf-AHjdvYsXhaXI5nE08bUUW4UDHCRw/gviz/tq?tqx=out:csv\")"
   ]
  },
  {
   "cell_type": "markdown",
   "metadata": {
    "id": "QQc2ZrJ1U2FE"
   },
   "source": [
    "## Just some quick exploring of our rides data\n",
    "\n",
    "Assuming you didn't get an error, the first thing we should always do is some quick exploration of our data.  This is to make sure it is what we think it is before digging in more.  Look at the number of rows, columns, what they contained at a high level, etc. \n"
   ]
  },
  {
   "cell_type": "code",
   "execution_count": 3,
   "metadata": {
    "id": "v7VEXlSNVBXJ"
   },
   "outputs": [
    {
     "data": {
      "text/plain": [
       "(8760, 8)"
      ]
     },
     "execution_count": 3,
     "metadata": {},
     "output_type": "execute_result"
    }
   ],
   "source": [
    "# Get the dimensions - 8670 rows, 8 columns\n",
    "rides.shape\n",
    "# Note, you can get either the number of rows or column using square brackets\n",
    "# e.g. rides.shape[0] gets the first position... remember indexing in python starts at zero!\n",
    "# rides.shape[1] will grab the second"
   ]
  },
  {
   "cell_type": "code",
   "execution_count": 4,
   "metadata": {
    "id": "faz0kjSJu9LE"
   },
   "outputs": [
    {
     "data": {
      "text/html": [
       "<div>\n",
       "<style scoped>\n",
       "    .dataframe tbody tr th:only-of-type {\n",
       "        vertical-align: middle;\n",
       "    }\n",
       "\n",
       "    .dataframe tbody tr th {\n",
       "        vertical-align: top;\n",
       "    }\n",
       "\n",
       "    .dataframe thead th {\n",
       "        text-align: right;\n",
       "    }\n",
       "</style>\n",
       "<table border=\"1\" class=\"dataframe\">\n",
       "  <thead>\n",
       "    <tr style=\"text-align: right;\">\n",
       "      <th></th>\n",
       "      <th>obs</th>\n",
       "      <th>hour</th>\n",
       "      <th>total_passengers</th>\n",
       "      <th>mean_passenger_count</th>\n",
       "      <th>mean_trip_time</th>\n",
       "      <th>mean_distance</th>\n",
       "      <th>mean_fare</th>\n",
       "      <th>mean_tip</th>\n",
       "    </tr>\n",
       "  </thead>\n",
       "  <tbody>\n",
       "    <tr>\n",
       "      <th>0</th>\n",
       "      <td>1</td>\n",
       "      <td>2018-01-01 0:00:00</td>\n",
       "      <td>28630</td>\n",
       "      <td>1.739580</td>\n",
       "      <td>17.239386</td>\n",
       "      <td>2.754618</td>\n",
       "      <td>12.621758</td>\n",
       "      <td>1.617691</td>\n",
       "    </tr>\n",
       "    <tr>\n",
       "      <th>1</th>\n",
       "      <td>2</td>\n",
       "      <td>2018-01-01 1:00:00</td>\n",
       "      <td>32778</td>\n",
       "      <td>1.726521</td>\n",
       "      <td>18.515281</td>\n",
       "      <td>2.957461</td>\n",
       "      <td>12.864467</td>\n",
       "      <td>1.727244</td>\n",
       "    </tr>\n",
       "    <tr>\n",
       "      <th>2</th>\n",
       "      <td>3</td>\n",
       "      <td>2018-01-01 2:00:00</td>\n",
       "      <td>27966</td>\n",
       "      <td>1.688666</td>\n",
       "      <td>18.065338</td>\n",
       "      <td>3.083759</td>\n",
       "      <td>12.988859</td>\n",
       "      <td>1.723989</td>\n",
       "    </tr>\n",
       "    <tr>\n",
       "      <th>3</th>\n",
       "      <td>4</td>\n",
       "      <td>2018-01-01 3:00:00</td>\n",
       "      <td>21243</td>\n",
       "      <td>1.684482</td>\n",
       "      <td>17.502142</td>\n",
       "      <td>3.167346</td>\n",
       "      <td>12.950800</td>\n",
       "      <td>1.631373</td>\n",
       "    </tr>\n",
       "    <tr>\n",
       "      <th>4</th>\n",
       "      <td>5</td>\n",
       "      <td>2018-01-01 4:00:00</td>\n",
       "      <td>14822</td>\n",
       "      <td>1.698602</td>\n",
       "      <td>18.254007</td>\n",
       "      <td>3.562889</td>\n",
       "      <td>13.898338</td>\n",
       "      <td>1.520717</td>\n",
       "    </tr>\n",
       "  </tbody>\n",
       "</table>\n",
       "</div>"
      ],
      "text/plain": [
       "   obs                hour  total_passengers  mean_passenger_count  \\\n",
       "0    1  2018-01-01 0:00:00             28630              1.739580   \n",
       "1    2  2018-01-01 1:00:00             32778              1.726521   \n",
       "2    3  2018-01-01 2:00:00             27966              1.688666   \n",
       "3    4  2018-01-01 3:00:00             21243              1.684482   \n",
       "4    5  2018-01-01 4:00:00             14822              1.698602   \n",
       "\n",
       "   mean_trip_time  mean_distance  mean_fare  mean_tip  \n",
       "0       17.239386       2.754618  12.621758  1.617691  \n",
       "1       18.515281       2.957461  12.864467  1.727244  \n",
       "2       18.065338       3.083759  12.988859  1.723989  \n",
       "3       17.502142       3.167346  12.950800  1.631373  \n",
       "4       18.254007       3.562889  13.898338  1.520717  "
      ]
     },
     "execution_count": 4,
     "metadata": {},
     "output_type": "execute_result"
    }
   ],
   "source": [
    "# Get the first five rows to look at the raw data\n",
    "rides.head()"
   ]
  },
  {
   "cell_type": "markdown",
   "metadata": {
    "id": "-pfAC-lowLlr"
   },
   "source": [
    "So what can we learn from our data just looking at the first five rows?\n",
    "\n",
    "- Well, it looks like we have data that has been aggregated by hour intervals.  The hour column are dates along with times that grow by an hour each row.  \n",
    "\n",
    "- The aggregation looks to be about average features of taxi rides in that hour.  \n",
    "\n",
    "- I'd say that most of the data make sense so far, but we're only seeing five of 8760 rows, so there could still be issues. \n",
    "\n"
   ]
  },
  {
   "cell_type": "code",
   "execution_count": 5,
   "metadata": {
    "id": "JIAQEq52VJzJ"
   },
   "outputs": [
    {
     "data": {
      "text/html": [
       "<div>\n",
       "<style scoped>\n",
       "    .dataframe tbody tr th:only-of-type {\n",
       "        vertical-align: middle;\n",
       "    }\n",
       "\n",
       "    .dataframe tbody tr th {\n",
       "        vertical-align: top;\n",
       "    }\n",
       "\n",
       "    .dataframe thead th {\n",
       "        text-align: right;\n",
       "    }\n",
       "</style>\n",
       "<table border=\"1\" class=\"dataframe\">\n",
       "  <thead>\n",
       "    <tr style=\"text-align: right;\">\n",
       "      <th></th>\n",
       "      <th>obs</th>\n",
       "      <th>total_passengers</th>\n",
       "      <th>mean_passenger_count</th>\n",
       "      <th>mean_trip_time</th>\n",
       "      <th>mean_distance</th>\n",
       "      <th>mean_fare</th>\n",
       "      <th>mean_tip</th>\n",
       "    </tr>\n",
       "  </thead>\n",
       "  <tbody>\n",
       "    <tr>\n",
       "      <th>count</th>\n",
       "      <td>8760.000000</td>\n",
       "      <td>8760.000000</td>\n",
       "      <td>8760.000000</td>\n",
       "      <td>8760.000000</td>\n",
       "      <td>8760.000000</td>\n",
       "      <td>8760.000000</td>\n",
       "      <td>8760.000000</td>\n",
       "    </tr>\n",
       "    <tr>\n",
       "      <th>mean</th>\n",
       "      <td>4380.500000</td>\n",
       "      <td>18716.562671</td>\n",
       "      <td>1.591968</td>\n",
       "      <td>16.614130</td>\n",
       "      <td>3.156375</td>\n",
       "      <td>13.377344</td>\n",
       "      <td>1.853594</td>\n",
       "    </tr>\n",
       "    <tr>\n",
       "      <th>std</th>\n",
       "      <td>2528.938512</td>\n",
       "      <td>8961.120977</td>\n",
       "      <td>0.053635</td>\n",
       "      <td>30.288910</td>\n",
       "      <td>0.642236</td>\n",
       "      <td>4.422060</td>\n",
       "      <td>0.231873</td>\n",
       "    </tr>\n",
       "    <tr>\n",
       "      <th>min</th>\n",
       "      <td>1.000000</td>\n",
       "      <td>3.000000</td>\n",
       "      <td>1.297562</td>\n",
       "      <td>-2712.216360</td>\n",
       "      <td>1.818509</td>\n",
       "      <td>8.397816</td>\n",
       "      <td>1.124044</td>\n",
       "    </tr>\n",
       "    <tr>\n",
       "      <th>25%</th>\n",
       "      <td>2190.750000</td>\n",
       "      <td>11464.500000</td>\n",
       "      <td>1.554646</td>\n",
       "      <td>15.048474</td>\n",
       "      <td>2.724941</td>\n",
       "      <td>12.328013</td>\n",
       "      <td>1.687558</td>\n",
       "    </tr>\n",
       "    <tr>\n",
       "      <th>50%</th>\n",
       "      <td>4380.500000</td>\n",
       "      <td>21502.500000</td>\n",
       "      <td>1.587136</td>\n",
       "      <td>16.665912</td>\n",
       "      <td>2.996647</td>\n",
       "      <td>13.078520</td>\n",
       "      <td>1.868333</td>\n",
       "    </tr>\n",
       "    <tr>\n",
       "      <th>75%</th>\n",
       "      <td>6570.250000</td>\n",
       "      <td>25180.500000</td>\n",
       "      <td>1.631410</td>\n",
       "      <td>18.655940</td>\n",
       "      <td>3.386168</td>\n",
       "      <td>13.975809</td>\n",
       "      <td>2.006602</td>\n",
       "    </tr>\n",
       "    <tr>\n",
       "      <th>max</th>\n",
       "      <td>8760.000000</td>\n",
       "      <td>38420.000000</td>\n",
       "      <td>1.773838</td>\n",
       "      <td>91.992934</td>\n",
       "      <td>16.392558</td>\n",
       "      <td>330.098643</td>\n",
       "      <td>3.683238</td>\n",
       "    </tr>\n",
       "  </tbody>\n",
       "</table>\n",
       "</div>"
      ],
      "text/plain": [
       "               obs  total_passengers  mean_passenger_count  mean_trip_time  \\\n",
       "count  8760.000000       8760.000000           8760.000000     8760.000000   \n",
       "mean   4380.500000      18716.562671              1.591968       16.614130   \n",
       "std    2528.938512       8961.120977              0.053635       30.288910   \n",
       "min       1.000000          3.000000              1.297562    -2712.216360   \n",
       "25%    2190.750000      11464.500000              1.554646       15.048474   \n",
       "50%    4380.500000      21502.500000              1.587136       16.665912   \n",
       "75%    6570.250000      25180.500000              1.631410       18.655940   \n",
       "max    8760.000000      38420.000000              1.773838       91.992934   \n",
       "\n",
       "       mean_distance    mean_fare     mean_tip  \n",
       "count    8760.000000  8760.000000  8760.000000  \n",
       "mean        3.156375    13.377344     1.853594  \n",
       "std         0.642236     4.422060     0.231873  \n",
       "min         1.818509     8.397816     1.124044  \n",
       "25%         2.724941    12.328013     1.687558  \n",
       "50%         2.996647    13.078520     1.868333  \n",
       "75%         3.386168    13.975809     2.006602  \n",
       "max        16.392558   330.098643     3.683238  "
      ]
     },
     "execution_count": 5,
     "metadata": {},
     "output_type": "execute_result"
    }
   ],
   "source": [
    "# Get a some summary statistics\n",
    "rides.describe()"
   ]
  },
  {
   "cell_type": "markdown",
   "metadata": {
    "id": "5tVSf2U4xlNM"
   },
   "source": [
    "`describe()` lets us learn more at a high level.  It's not the raw data but instead gives summary statistics of the data.  `describe()` should be used *with* `head()` to get both detailed and high level views.  From this we can see a couple issues.  \n",
    "\n",
    "- The major one is that the max mean values are really high.  The means and even 75% quartile all look fine, though.  But a  mean triptime within an hour of 92 minutes seems really high, as does the mean fare of 330.  I guess it could happen, but we'd want to explore more to figure out if this is realistic.\n",
    "\n",
    "- The minimum average trip time is negative 2712 which is clearly an error.  \n",
    "\n",
    "Remember that these are means and totals calculated for hour intervals  from individual ride data.  Ideally the data engineer would have cleaned the raw data before this stage.  Given that data engineer was me I'll yell at myself later.  \n",
    "\n",
    "Also, it's worth pointing out that it's useful to use both `describe()`  and `head()`.  `head()` is good to see the raw data, but won't give you summary statistics that tell you if you might have outliers or errors.  `describe()` does let you see those things but will only work on numeric datatypes and leaves out strings (e.g. hour). "
   ]
  },
  {
   "cell_type": "code",
   "execution_count": 11,
   "metadata": {
    "id": "gfhifSuhV9pt"
   },
   "outputs": [
    {
     "data": {
      "text/plain": [
       "obs                       int64\n",
       "hour                     object\n",
       "total_passengers          int64\n",
       "mean_passenger_count    float64\n",
       "mean_trip_time          float64\n",
       "mean_distance           float64\n",
       "mean_fare               float64\n",
       "mean_tip                float64\n",
       "dtype: object"
      ]
     },
     "execution_count": 11,
     "metadata": {},
     "output_type": "execute_result"
    }
   ],
   "source": [
    "# What are the datatypes?\n",
    "rides.dtypes"
   ]
  },
  {
   "cell_type": "markdown",
   "metadata": {
    "id": "teYlkwa0qxD1"
   },
   "source": [
    "Overall these look good.  We see integers where there should be integers, and floats where there should be floats.\n",
    " \n",
    "- The only issue is that our `hour` column is an object datatype.  Object datatypes are just a generic datatype that contains mixed numeric and non-numeric values.  We saw when we called `head()` that the hour column contained numbers as well as some slashes and colons.  We'll want to convert that to a datetime and play with other conversions in a bit."
   ]
  },
  {
   "cell_type": "code",
   "execution_count": 10,
   "metadata": {
    "id": "bb5DtztON4ZH"
   },
   "outputs": [],
   "source": [
    "# Can you call some of these functions on indivdiual columns? "
   ]
  },
  {
   "cell_type": "markdown",
   "metadata": {
    "id": "CKMZKiW_2nsv"
   },
   "source": [
    "## Converting datatypes\n",
    "\n",
    "Here we'll convert a couple columns to some different datatypes.  Not going to cover them all, but I just want you to see the general syntax used.  "
   ]
  },
  {
   "cell_type": "code",
   "execution_count": 12,
   "metadata": {
    "id": "IWPzux3822Gh"
   },
   "outputs": [
    {
     "data": {
      "text/plain": [
       "0        2018-01-01 0:00:00\n",
       "1        2018-01-01 1:00:00\n",
       "2        2018-01-01 2:00:00\n",
       "3        2018-01-01 3:00:00\n",
       "4        2018-01-01 4:00:00\n",
       "               ...         \n",
       "8755    2018-12-31 19:00:00\n",
       "8756    2018-12-31 20:00:00\n",
       "8757    2018-12-31 21:00:00\n",
       "8758    2018-12-31 22:00:00\n",
       "8759    2018-12-31 23:00:00\n",
       "Name: hour, Length: 8760, dtype: object"
      ]
     },
     "execution_count": 12,
     "metadata": {},
     "output_type": "execute_result"
    }
   ],
   "source": [
    "# Given that hour column needs to be converted we'll start there.  \n",
    "# Just to refresh, you call can call a column from a dataframe using the syntax 'df_name['column_name']\n",
    "# Watch\n",
    "rides['hour']"
   ]
  },
  {
   "cell_type": "code",
   "execution_count": 13,
   "metadata": {
    "id": "FRvkwgfD3Z4X"
   },
   "outputs": [
    {
     "data": {
      "text/plain": [
       "0      2018-01-01 00:00:00\n",
       "1      2018-01-01 01:00:00\n",
       "2      2018-01-01 02:00:00\n",
       "3      2018-01-01 03:00:00\n",
       "4      2018-01-01 04:00:00\n",
       "               ...        \n",
       "8755   2018-12-31 19:00:00\n",
       "8756   2018-12-31 20:00:00\n",
       "8757   2018-12-31 21:00:00\n",
       "8758   2018-12-31 22:00:00\n",
       "8759   2018-12-31 23:00:00\n",
       "Name: hour, Length: 8760, dtype: datetime64[ns]"
      ]
     },
     "execution_count": 13,
     "metadata": {},
     "output_type": "execute_result"
    }
   ],
   "source": [
    "# Pandas has the to_datetime() which does exactly what you think it does... converts columns to datetimes\n",
    "# Remember we aliased pandas as pd.  Need to call the package then the function\n",
    "pd.to_datetime(rides['hour'])"
   ]
  },
  {
   "cell_type": "code",
   "execution_count": 14,
   "metadata": {
    "id": "9dh_cphPqVZ_"
   },
   "outputs": [],
   "source": [
    "# Cool, so we can see that it says the dtype is a datetime.  \n",
    "# Obviously we need to assign that to our dataframe to be useful, so let's do that\n",
    "rides['hour'] = pd.to_datetime(rides['hour'])"
   ]
  },
  {
   "cell_type": "code",
   "execution_count": 15,
   "metadata": {
    "id": "n83Tdp494Mt_"
   },
   "outputs": [
    {
     "data": {
      "text/plain": [
       "obs                              int64\n",
       "hour                    datetime64[ns]\n",
       "total_passengers                 int64\n",
       "mean_passenger_count           float64\n",
       "mean_trip_time                 float64\n",
       "mean_distance                  float64\n",
       "mean_fare                      float64\n",
       "mean_tip                       float64\n",
       "dtype: object"
      ]
     },
     "execution_count": 15,
     "metadata": {},
     "output_type": "execute_result"
    }
   ],
   "source": [
    "# Give a quick check of our datatypes to confirm. \n",
    "rides.dtypes"
   ]
  },
  {
   "cell_type": "code",
   "execution_count": 16,
   "metadata": {
    "id": "j9VBqFuIqxRv"
   },
   "outputs": [
    {
     "data": {
      "text/plain": [
       "Timestamp('2018-01-01 00:00:00')"
      ]
     },
     "execution_count": 16,
     "metadata": {},
     "output_type": "execute_result"
    }
   ],
   "source": [
    "# What's great about datetimes is that you can treat them as numbers\n",
    "# This is key to checking for errors, defining intervals, calculating intervals. etc.\n",
    "# For example, what's the earliest date in our dataset?\n",
    "rides['hour'].min()"
   ]
  },
  {
   "cell_type": "code",
   "execution_count": 17,
   "metadata": {
    "id": "uqAopKVS4ktE"
   },
   "outputs": [
    {
     "data": {
      "text/plain": [
       "Timedelta('364 days 23:00:00')"
      ]
     },
     "execution_count": 17,
     "metadata": {},
     "output_type": "execute_result"
    }
   ],
   "source": [
    "# What's the total timespan of our data? \n",
    "rides['hour'].max() - rides['hour'].min()"
   ]
  },
  {
   "cell_type": "markdown",
   "metadata": {
    "id": "lq91rJtG4wpa"
   },
   "source": [
    "### Converting numerics\n",
    "\n",
    "Let's just quickly convert one of the float columns to an integer just so you can see another datatype conversion.  We'll convert mean passenger count as it might make more sense to present that as integers.  "
   ]
  },
  {
   "cell_type": "code",
   "execution_count": 18,
   "metadata": {
    "id": "M2xZBO-f5Eep"
   },
   "outputs": [
    {
     "data": {
      "text/plain": [
       "0       1\n",
       "1       1\n",
       "2       1\n",
       "3       1\n",
       "4       1\n",
       "       ..\n",
       "8755    1\n",
       "8756    1\n",
       "8757    1\n",
       "8758    1\n",
       "8759    1\n",
       "Name: mean_passenger_count, Length: 8760, dtype: int64"
      ]
     },
     "execution_count": 18,
     "metadata": {},
     "output_type": "execute_result"
    }
   ],
   "source": [
    "# For other datatypes you can use the .astype() function.  \n",
    "# You call the astype() function and specify what datatype you want to convert it to.\n",
    "# Here we use int for integer, but you could change to whatever if you wanted\n",
    "rides['mean_passenger_count'].astype(int)"
   ]
  },
  {
   "cell_type": "code",
   "execution_count": 19,
   "metadata": {
    "id": "s-EleKAE6nwU"
   },
   "outputs": [],
   "source": [
    "# Note that in integer conversion it just chops off the decimal.  It doesn't round. \n",
    "# You can also see that it converted it to an integer based on the dtype in the output.\n",
    "# Let's do that again but now add it to our dataframe in a new column called 'mean_pass_int'\n",
    "rides['mean_pass_int'] = rides['mean_passenger_count'].astype(int)"
   ]
  },
  {
   "cell_type": "code",
   "execution_count": 20,
   "metadata": {
    "id": "CL3JDJyo69F-"
   },
   "outputs": [
    {
     "data": {
      "text/plain": [
       "obs                              int64\n",
       "hour                    datetime64[ns]\n",
       "total_passengers                 int64\n",
       "mean_passenger_count           float64\n",
       "mean_trip_time                 float64\n",
       "mean_distance                  float64\n",
       "mean_fare                      float64\n",
       "mean_tip                       float64\n",
       "mean_pass_int                    int64\n",
       "dtype: object"
      ]
     },
     "execution_count": 20,
     "metadata": {},
     "output_type": "execute_result"
    }
   ],
   "source": [
    "# Check \n",
    "rides.dtypes"
   ]
  },
  {
   "cell_type": "markdown",
   "metadata": {
    "id": "MLKBkwiaDWmO"
   },
   "source": [
    "## Making a binary column\n",
    "\n",
    "We talked about how you'll frequently want to convert a variable into a 0/1 binary column.  Let's make one new column that contains a 1 if the number of passengers in that hour is greater than 25000 and zero if it's less than that.  We'll call this new column 'peak' for if it's a peak time in terms of passengers. "
   ]
  },
  {
   "cell_type": "code",
   "execution_count": 21,
   "metadata": {
    "id": "QUceIqleEIhe"
   },
   "outputs": [
    {
     "data": {
      "text/plain": [
       "array([1, 1, 1, ..., 0, 0, 0])"
      ]
     },
     "execution_count": 21,
     "metadata": {},
     "output_type": "execute_result"
    }
   ],
   "source": [
    "# We can use numpy's where() function to do this.  \n",
    "# You just specify the column and the comparison in the first position.\n",
    "# The second position is what you what the value to be if the condition is met.\n",
    "# The third is if the condition is not met.\n",
    "# This is saying 'numpy, anywhere you see the total number of passengers in the rides dataframe is greater than 25000...`\n",
    "# that should be a 1, if it's not then a 0\n",
    "\n",
    "np.where(rides['total_passengers'] >= 25000, 1, 0)"
   ]
  },
  {
   "cell_type": "code",
   "execution_count": 22,
   "metadata": {
    "id": "0vb1ylDaGhNX"
   },
   "outputs": [
    {
     "data": {
      "text/plain": [
       "0        True\n",
       "1        True\n",
       "2        True\n",
       "3       False\n",
       "4       False\n",
       "        ...  \n",
       "8755     True\n",
       "8756     True\n",
       "8757    False\n",
       "8758    False\n",
       "8759    False\n",
       "Name: total_passengers, Length: 8760, dtype: bool"
      ]
     },
     "execution_count": 22,
     "metadata": {},
     "output_type": "execute_result"
    }
   ],
   "source": [
    "# This idea of checking for truth underlies this.  \n",
    "# If we run just the comparison we can see this. \n",
    "# Where's there's a 1 in the array above there's a True here\n",
    "rides['total_passengers'] >= 25000"
   ]
  },
  {
   "cell_type": "code",
   "execution_count": 23,
   "metadata": {
    "id": "Zzzz8HXpFl7m"
   },
   "outputs": [],
   "source": [
    "# OK, let's just add that to a new column now. \n",
    "\n",
    "rides['peak'] = np.where(rides['total_passengers'] >= 25000, 1, 0)"
   ]
  },
  {
   "cell_type": "code",
   "execution_count": 24,
   "metadata": {
    "id": "se7nTTZ9FuXt"
   },
   "outputs": [
    {
     "name": "stdout",
     "output_type": "stream",
     "text": [
      "   obs                hour  total_passengers  mean_passenger_count  \\\n",
      "0    1 2018-01-01 00:00:00             28630              1.739580   \n",
      "1    2 2018-01-01 01:00:00             32778              1.726521   \n",
      "2    3 2018-01-01 02:00:00             27966              1.688666   \n",
      "3    4 2018-01-01 03:00:00             21243              1.684482   \n",
      "4    5 2018-01-01 04:00:00             14822              1.698602   \n",
      "\n",
      "   mean_trip_time  mean_distance  mean_fare  mean_tip  mean_pass_int  peak  \n",
      "0       17.239386       2.754618  12.621758  1.617691              1     1  \n",
      "1       18.515281       2.957461  12.864467  1.727244              1     1  \n",
      "2       18.065338       3.083759  12.988859  1.723989              1     1  \n",
      "3       17.502142       3.167346  12.950800  1.631373              1     0  \n",
      "4       18.254007       3.562889  13.898338  1.520717              1     0  \n",
      "0.2602739726027397\n"
     ]
    }
   ],
   "source": [
    "# Quick check with head looks good\n",
    "# I also am grabbing the mean of this new column which will tell me the percentative of observations that are at peak\n",
    "# Finally by wrapping print around both it'll display both operations\n",
    "# Without print it'll just display the last.  \n",
    "# Nice if you want fewer code blocks. \n",
    "print(rides.head())\n",
    "print(rides['peak'].mean())"
   ]
  },
  {
   "cell_type": "markdown",
   "metadata": {
    "id": "-386nKg8WNTN"
   },
   "source": [
    "## Making a quick visualization\n",
    "\n",
    "> Let's take a minute and just make a quick visualization.  It's not something we'll need to do a ton of, but being able to do simple viz is key to understanding data.  \n"
   ]
  },
  {
   "cell_type": "code",
   "execution_count": 25,
   "metadata": {
    "id": "qiyp3TzP9JZL"
   },
   "outputs": [
    {
     "data": {
      "image/png": "[encoded data removed]",
      "text/plain": [
       "<Figure size 432x288 with 1 Axes>"
      ]
     },
     "metadata": {
      "needs_background": "light"
     },
     "output_type": "display_data"
    }
   ],
   "source": [
    "# We'll start with a histogram of total passengers\n",
    "# You need to call the alias for matplotlib - plt\n",
    "plt.hist(x = rides['total_passengers']) # feed plt.hist() the column you want to plot\n",
    "plt.show() # And then show it!"
   ]
  },
  {
   "cell_type": "markdown",
   "metadata": {
    "id": "fJiZbvRu9VTp"
   },
   "source": [
    "I'd say that looks pretty good.  No negatives which is good. There are two humps which probably relate to the very peak times of rush hour and then then the very slow times of really early in the morning.  "
   ]
  },
  {
   "cell_type": "code",
   "execution_count": 26,
   "metadata": {
    "id": "mkRTLrizWqrj"
   },
   "outputs": [
    {
     "data": {
      "image/png": "[encoded data removed]",
      "text/plain": [
       "<Figure size 432x288 with 1 Axes>"
      ]
     },
     "metadata": {
      "needs_background": "light"
     },
     "output_type": "display_data"
    }
   ],
   "source": [
    "# Let's now make a scatterplot of how distance relates to tip\n",
    "# We'll spice this plot up with some axis labels\n",
    "plt.scatter(x = rides['mean_distance'], y = rides['mean_tip']) # scatterplot\n",
    "plt.xlabel('mean distance (miles)') # give x label\n",
    "plt.ylabel('mean tip (dollars)') # give y label\n",
    "plt.show() "
   ]
  },
  {
   "cell_type": "markdown",
   "metadata": {
    "id": "zwY4tqccXBbz"
   },
   "source": [
    "Not all that surprising that as the distance goes up, people tip more.   \n",
    "\n",
    "There are still those outliers that we became aware of earlier in the lesson.  You'd have a couple options here.  Cut them out and move on, or go back and fix the original process that created the errors.  Maybe it was only a single ride within that hour which skewed the whole thing.  So ideally you would catch this in the initial transform step!\n"
   ]
  },
  {
   "cell_type": "markdown",
   "metadata": {
    "id": "MrqRjKNLIKHu"
   },
   "source": [
    "## Data Structures\n",
    "\n",
    "Let's now take a bit to play with some lists, and dictionaries. We'll make some generic data and then convert them to dataframes so you can start to get a feel for how they work. "
   ]
  },
  {
   "cell_type": "markdown",
   "metadata": {
    "id": "j7Tq1D20KBey"
   },
   "source": [
    "### Lists first"
   ]
  },
  {
   "cell_type": "code",
   "execution_count": 27,
   "metadata": {
    "id": "H2feO-glITyh"
   },
   "outputs": [],
   "source": [
    "# lists are easy to make.  Let's take the examples from the slidedeck\n",
    "\n",
    "test_scores = [67, 49, 88, 95, 77]\n",
    "study_time = [35, 14, 75, 89, 68]\n",
    "school_year = ['fr', 'jr', 'sr', 'sr', 'fr']"
   ]
  },
  {
   "cell_type": "code",
   "execution_count": 28,
   "metadata": {
    "id": "-GQS-jJcItTf"
   },
   "outputs": [
    {
     "data": {
      "text/plain": [
       "88"
      ]
     },
     "execution_count": 28,
     "metadata": {},
     "output_type": "execute_result"
    }
   ],
   "source": [
    "# You can select positions from a list using indexing.  \n",
    "# Let's get the 3rd entry in test_scores\n",
    "# Remember python indexes from 0\n",
    "test_scores[2]"
   ]
  },
  {
   "cell_type": "code",
   "execution_count": 29,
   "metadata": {
    "id": "Od1eAMg5_SXB"
   },
   "outputs": [
    {
     "data": {
      "text/plain": [
       "[88, 95]"
      ]
     },
     "execution_count": 29,
     "metadata": {},
     "output_type": "execute_result"
    }
   ],
   "source": [
    "# And select ranges.  \n",
    "# Remember that the starting value is inclusive but the end is exclusive\n",
    "test_scores[2:4]"
   ]
  },
  {
   "cell_type": "code",
   "execution_count": 30,
   "metadata": {
    "id": "b8CLr2eLI5Kn"
   },
   "outputs": [
    {
     "data": {
      "text/plain": [
       "[67, 49, 88, 95, 77, 109]"
      ]
     },
     "execution_count": 30,
     "metadata": {},
     "output_type": "execute_result"
    }
   ],
   "source": [
    "# You can add on to the end of lists using .append()\n",
    "test_scores.append(109)\n",
    "test_scores\n",
    "# There are lots of different functions/methods that can be applied to lists. \n",
    "# Just wanted to show you one as a reminder. "
   ]
  },
  {
   "cell_type": "code",
   "execution_count": 31,
   "metadata": {
    "id": "LLECDcwUJHYh"
   },
   "outputs": [
    {
     "data": {
      "text/plain": [
       "[67, 49, 88, 95, 77, 100]"
      ]
     },
     "execution_count": 31,
     "metadata": {},
     "output_type": "execute_result"
    }
   ],
   "source": [
    "# And replace values by specifying an index position and telling what you want to insert\n",
    "test_scores[5] = 100\n",
    "test_scores"
   ]
  },
  {
   "cell_type": "code",
   "execution_count": 32,
   "metadata": {
    "id": "G3J6-VauKF3W"
   },
   "outputs": [
    {
     "data": {
      "text/html": [
       "<div>\n",
       "<style scoped>\n",
       "    .dataframe tbody tr th:only-of-type {\n",
       "        vertical-align: middle;\n",
       "    }\n",
       "\n",
       "    .dataframe tbody tr th {\n",
       "        vertical-align: top;\n",
       "    }\n",
       "\n",
       "    .dataframe thead th {\n",
       "        text-align: right;\n",
       "    }\n",
       "</style>\n",
       "<table border=\"1\" class=\"dataframe\">\n",
       "  <thead>\n",
       "    <tr style=\"text-align: right;\">\n",
       "      <th></th>\n",
       "      <th>test_scores</th>\n",
       "      <th>study_time</th>\n",
       "      <th>school_year</th>\n",
       "    </tr>\n",
       "  </thead>\n",
       "  <tbody>\n",
       "    <tr>\n",
       "      <th>0</th>\n",
       "      <td>67</td>\n",
       "      <td>35</td>\n",
       "      <td>fr</td>\n",
       "    </tr>\n",
       "    <tr>\n",
       "      <th>1</th>\n",
       "      <td>49</td>\n",
       "      <td>14</td>\n",
       "      <td>jr</td>\n",
       "    </tr>\n",
       "    <tr>\n",
       "      <th>2</th>\n",
       "      <td>88</td>\n",
       "      <td>75</td>\n",
       "      <td>sr</td>\n",
       "    </tr>\n",
       "    <tr>\n",
       "      <th>3</th>\n",
       "      <td>95</td>\n",
       "      <td>89</td>\n",
       "      <td>sr</td>\n",
       "    </tr>\n",
       "    <tr>\n",
       "      <th>4</th>\n",
       "      <td>77</td>\n",
       "      <td>68</td>\n",
       "      <td>fr</td>\n",
       "    </tr>\n",
       "  </tbody>\n",
       "</table>\n",
       "</div>"
      ],
      "text/plain": [
       "   test_scores  study_time school_year\n",
       "0           67          35          fr\n",
       "1           49          14          jr\n",
       "2           88          75          sr\n",
       "3           95          89          sr\n",
       "4           77          68          fr"
      ]
     },
     "execution_count": 32,
     "metadata": {},
     "output_type": "execute_result"
    }
   ],
   "source": [
    "# Let's turn the original three lists into a dataframe\n",
    "\n",
    "test_scores = [67, 49, 88, 95, 77]\n",
    "study_time = [35, 14, 75, 89, 68]\n",
    "school_year = ['fr', 'jr', 'sr', 'sr', 'fr']\n",
    "\n",
    "# Then you can take the pandas DataFrame() function.  First argument is the data, second the column names\n",
    "# Here we are using the zip function to structure the data.  Play around with what happens when you don't use that.\n",
    "# columns just says what you want the column names to be\n",
    "score_df = pd.DataFrame(list(zip(test_scores, study_time, school_year)), \n",
    "                        columns=['test_scores', 'study_time', 'school_year'])\n",
    "score_df\n"
   ]
  },
  {
   "cell_type": "code",
   "execution_count": 33,
   "metadata": {
    "id": "qOHS9yupMdhZ"
   },
   "outputs": [
    {
     "data": {
      "text/plain": [
       "pandas.core.frame.DataFrame"
      ]
     },
     "execution_count": 33,
     "metadata": {},
     "output_type": "execute_result"
    }
   ],
   "source": [
    "# Yep, it's a data frame\n",
    "type(score_df)"
   ]
  },
  {
   "cell_type": "markdown",
   "metadata": {
    "id": "-stUPynmNV4p"
   },
   "source": [
    "### Dictionaries"
   ]
  },
  {
   "cell_type": "code",
   "execution_count": 34,
   "metadata": {
    "id": "XV0zUgQcNoO_"
   },
   "outputs": [],
   "source": [
    "# We can make a couple dictionaries with descriptors of myself and my brother\n",
    "nick_dict = {'name' : 'nick', 'height' : 75, 'weight' : 245, 'hair' : 'black'}\n",
    "tony_dict = {'name' : 'tony', 'height' : 73, 'weight' : 200, 'hair' : 'brown'}"
   ]
  },
  {
   "cell_type": "code",
   "execution_count": 35,
   "metadata": {
    "id": "UEFP-OVqQC0H"
   },
   "outputs": [
    {
     "data": {
      "text/html": [
       "<div>\n",
       "<style scoped>\n",
       "    .dataframe tbody tr th:only-of-type {\n",
       "        vertical-align: middle;\n",
       "    }\n",
       "\n",
       "    .dataframe tbody tr th {\n",
       "        vertical-align: top;\n",
       "    }\n",
       "\n",
       "    .dataframe thead th {\n",
       "        text-align: right;\n",
       "    }\n",
       "</style>\n",
       "<table border=\"1\" class=\"dataframe\">\n",
       "  <thead>\n",
       "    <tr style=\"text-align: right;\">\n",
       "      <th></th>\n",
       "      <th>name</th>\n",
       "      <th>height</th>\n",
       "      <th>weight</th>\n",
       "      <th>hair</th>\n",
       "    </tr>\n",
       "  </thead>\n",
       "  <tbody>\n",
       "    <tr>\n",
       "      <th>0</th>\n",
       "      <td>nick</td>\n",
       "      <td>75</td>\n",
       "      <td>245</td>\n",
       "      <td>black</td>\n",
       "    </tr>\n",
       "    <tr>\n",
       "      <th>1</th>\n",
       "      <td>tony</td>\n",
       "      <td>73</td>\n",
       "      <td>200</td>\n",
       "      <td>brown</td>\n",
       "    </tr>\n",
       "  </tbody>\n",
       "</table>\n",
       "</div>"
      ],
      "text/plain": [
       "   name  height  weight   hair\n",
       "0  nick      75     245  black\n",
       "1  tony      73     200  brown"
      ]
     },
     "execution_count": 35,
     "metadata": {},
     "output_type": "execute_result"
    }
   ],
   "source": [
    "# Easy to make into a dataframe given the keys will be used as column names\n",
    "sibs_df = pd.DataFrame([nick_dict, tony_dict])\n",
    "sibs_df"
   ]
  },
  {
   "cell_type": "code",
   "execution_count": 36,
   "metadata": {
    "id": "4-WzZ5RGQtgA"
   },
   "outputs": [],
   "source": [
    "# One thing that can make things move faster when it comes to searching in a dataframe is setting an index\n",
    "# Indexes must be unique values\n",
    "# Here I'm going to set the 'name' column to the index\n",
    "sibs_df = sibs_df.set_index('name')"
   ]
  },
  {
   "cell_type": "code",
   "execution_count": 37,
   "metadata": {
    "id": "T9kloWIVQxWn"
   },
   "outputs": [
    {
     "data": {
      "text/plain": [
       "height       75\n",
       "weight      245\n",
       "hair      black\n",
       "Name: nick, dtype: object"
      ]
     },
     "execution_count": 37,
     "metadata": {},
     "output_type": "execute_result"
    }
   ],
   "source": [
    "# You can then search based on that unique index value\n",
    "# Obviously it takes no time when there's only two rows\n",
    "# But it's much faster when you have larger datasets.  \n",
    "sibs_df.loc['nick']"
   ]
  },
  {
   "cell_type": "markdown",
   "metadata": {
    "id": "92F8Ju1xbYne"
   },
   "source": [
    "## JSON files\n",
    "\n",
    "To end let's just take a minute to load in a json file"
   ]
  },
  {
   "cell_type": "code",
   "execution_count": 38,
   "metadata": {
    "id": "Nu_HZmAvbYAh"
   },
   "outputs": [],
   "source": [
    "# We need a couple libraries to do this\n",
    "import requests"
   ]
  },
  {
   "cell_type": "code",
   "execution_count": 39,
   "metadata": {
    "id": "ayVfFdXbdaEt"
   },
   "outputs": [
    {
     "data": {
      "text/plain": [
       "<Response [200]>"
      ]
     },
     "execution_count": 39,
     "metadata": {},
     "output_type": "execute_result"
    }
   ],
   "source": [
    "# First we'll use requests to get a url\n",
    "# That gets response object from the link\n",
    "url = 'https://gist.githubusercontent.com/hrp/900964/raw/2bbee4c296e6b54877b537144be89f19beff75f4/twitter.json'\n",
    "twitter_json_obj = requests.get(url)\n",
    "twitter_json_obj"
   ]
  },
  {
   "cell_type": "code",
   "execution_count": 40,
   "metadata": {
    "id": "p66C5uW0woLP"
   },
   "outputs": [],
   "source": [
    "# Then we can decode that json with the json() function\n",
    "twitter_json = twitter_json_obj.json()"
   ]
  },
  {
   "cell_type": "code",
   "execution_count": 41,
   "metadata": {
    "id": "J1-7y5yigZK1"
   },
   "outputs": [
    {
     "data": {
      "text/plain": [
       "dict"
      ]
     },
     "execution_count": 41,
     "metadata": {},
     "output_type": "execute_result"
    }
   ],
   "source": [
    "# Note that this is a dictionary!\n",
    "type(twitter_json)"
   ]
  },
  {
   "cell_type": "code",
   "execution_count": 42,
   "metadata": {
    "id": "nptVhlL8xOoJ"
   },
   "outputs": [
    {
     "data": {
      "text/plain": [
       "{'text': 'RT @PostGradProblem: In preparation for the NFL lockout, I will be spending twice as much time analyzing my fantasy baseball team during ...',\n",
       " 'truncated': True,\n",
       " 'in_reply_to_user_id': None,\n",
       " 'in_reply_to_status_id': None,\n",
       " 'favorited': False,\n",
       " 'source': '<a href=\"http://twitter.com/\" rel=\"nofollow\">Twitter for iPhone</a>',\n",
       " 'in_reply_to_screen_name': None,\n",
       " 'in_reply_to_status_id_str': None,\n",
       " 'id_str': '54691802283900928',\n",
       " 'entities': {'user_mentions': [{'indices': [3, 19],\n",
       "    'screen_name': 'PostGradProblem',\n",
       "    'id_str': '271572434',\n",
       "    'name': 'PostGradProblems',\n",
       "    'id': 271572434}],\n",
       "  'urls': [],\n",
       "  'hashtags': []},\n",
       " 'contributors': None,\n",
       " 'retweeted': False,\n",
       " 'in_reply_to_user_id_str': None,\n",
       " 'place': None,\n",
       " 'retweet_count': 4,\n",
       " 'created_at': 'Sun Apr 03 23:48:36 +0000 2011',\n",
       " 'retweeted_status': {'text': 'In preparation for the NFL lockout, I will be spending twice as much time analyzing my fantasy baseball team during company time. #PGP',\n",
       "  'truncated': False,\n",
       "  'in_reply_to_user_id': None,\n",
       "  'in_reply_to_status_id': None,\n",
       "  'favorited': False,\n",
       "  'source': '<a href=\"http://www.hootsuite.com\" rel=\"nofollow\">HootSuite</a>',\n",
       "  'in_reply_to_screen_name': None,\n",
       "  'in_reply_to_status_id_str': None,\n",
       "  'id_str': '54640519019642881',\n",
       "  'entities': {'user_mentions': [],\n",
       "   'urls': [],\n",
       "   'hashtags': [{'text': 'PGP', 'indices': [130, 134]}]},\n",
       "  'contributors': None,\n",
       "  'retweeted': False,\n",
       "  'in_reply_to_user_id_str': None,\n",
       "  'place': None,\n",
       "  'retweet_count': 4,\n",
       "  'created_at': 'Sun Apr 03 20:24:49 +0000 2011',\n",
       "  'user': {'notifications': None,\n",
       "   'profile_use_background_image': True,\n",
       "   'statuses_count': 31,\n",
       "   'profile_background_color': 'C0DEED',\n",
       "   'followers_count': 3066,\n",
       "   'profile_image_url': 'http://a2.twimg.com/profile_images/1285770264/PGP_normal.jpg',\n",
       "   'listed_count': 6,\n",
       "   'profile_background_image_url': 'http://a3.twimg.com/a/1301071706/images/themes/theme1/bg.png',\n",
       "   'description': '',\n",
       "   'screen_name': 'PostGradProblem',\n",
       "   'default_profile': True,\n",
       "   'verified': False,\n",
       "   'time_zone': None,\n",
       "   'profile_text_color': '333333',\n",
       "   'is_translator': False,\n",
       "   'profile_sidebar_fill_color': 'DDEEF6',\n",
       "   'location': '',\n",
       "   'id_str': '271572434',\n",
       "   'default_profile_image': False,\n",
       "   'profile_background_tile': False,\n",
       "   'lang': 'en',\n",
       "   'friends_count': 21,\n",
       "   'protected': False,\n",
       "   'favourites_count': 0,\n",
       "   'created_at': 'Thu Mar 24 19:45:44 +0000 2011',\n",
       "   'profile_link_color': '0084B4',\n",
       "   'name': 'PostGradProblems',\n",
       "   'show_all_inline_media': False,\n",
       "   'follow_request_sent': None,\n",
       "   'geo_enabled': False,\n",
       "   'profile_sidebar_border_color': 'C0DEED',\n",
       "   'url': None,\n",
       "   'id': 271572434,\n",
       "   'contributors_enabled': False,\n",
       "   'following': None,\n",
       "   'utc_offset': None},\n",
       "  'id': 54640519019642880,\n",
       "  'coordinates': None,\n",
       "  'geo': None},\n",
       " 'user': {'notifications': None,\n",
       "  'profile_use_background_image': True,\n",
       "  'statuses_count': 351,\n",
       "  'profile_background_color': 'C0DEED',\n",
       "  'followers_count': 48,\n",
       "  'profile_image_url': 'http://a1.twimg.com/profile_images/455128973/gCsVUnofNqqyd6tdOGevROvko1_500_normal.jpg',\n",
       "  'listed_count': 0,\n",
       "  'profile_background_image_url': 'http://a3.twimg.com/a/1300479984/images/themes/theme1/bg.png',\n",
       "  'description': 'watcha doin in my waters?',\n",
       "  'screen_name': 'OldGREG85',\n",
       "  'default_profile': True,\n",
       "  'verified': False,\n",
       "  'time_zone': 'Hawaii',\n",
       "  'profile_text_color': '333333',\n",
       "  'is_translator': False,\n",
       "  'profile_sidebar_fill_color': 'DDEEF6',\n",
       "  'location': 'Texas',\n",
       "  'id_str': '80177619',\n",
       "  'default_profile_image': False,\n",
       "  'profile_background_tile': False,\n",
       "  'lang': 'en',\n",
       "  'friends_count': 81,\n",
       "  'protected': False,\n",
       "  'favourites_count': 0,\n",
       "  'created_at': 'Tue Oct 06 01:13:17 +0000 2009',\n",
       "  'profile_link_color': '0084B4',\n",
       "  'name': 'GG',\n",
       "  'show_all_inline_media': False,\n",
       "  'follow_request_sent': None,\n",
       "  'geo_enabled': False,\n",
       "  'profile_sidebar_border_color': 'C0DEED',\n",
       "  'url': None,\n",
       "  'id': 80177619,\n",
       "  'contributors_enabled': False,\n",
       "  'following': None,\n",
       "  'utc_offset': -36000},\n",
       " 'id': 54691802283900930,\n",
       " 'coordinates': None,\n",
       " 'geo': None}"
      ]
     },
     "execution_count": 42,
     "metadata": {},
     "output_type": "execute_result"
    }
   ],
   "source": [
    "# Let's look at the whole thing\n",
    "twitter_json"
   ]
  },
  {
   "cell_type": "code",
   "execution_count": 43,
   "metadata": {
    "id": "Ru7ipvDwhO_Q"
   },
   "outputs": [
    {
     "data": {
      "text/plain": [
       "{'notifications': None,\n",
       " 'profile_use_background_image': True,\n",
       " 'statuses_count': 351,\n",
       " 'profile_background_color': 'C0DEED',\n",
       " 'followers_count': 48,\n",
       " 'profile_image_url': 'http://a1.twimg.com/profile_images/455128973/gCsVUnofNqqyd6tdOGevROvko1_500_normal.jpg',\n",
       " 'listed_count': 0,\n",
       " 'profile_background_image_url': 'http://a3.twimg.com/a/1300479984/images/themes/theme1/bg.png',\n",
       " 'description': 'watcha doin in my waters?',\n",
       " 'screen_name': 'OldGREG85',\n",
       " 'default_profile': True,\n",
       " 'verified': False,\n",
       " 'time_zone': 'Hawaii',\n",
       " 'profile_text_color': '333333',\n",
       " 'is_translator': False,\n",
       " 'profile_sidebar_fill_color': 'DDEEF6',\n",
       " 'location': 'Texas',\n",
       " 'id_str': '80177619',\n",
       " 'default_profile_image': False,\n",
       " 'profile_background_tile': False,\n",
       " 'lang': 'en',\n",
       " 'friends_count': 81,\n",
       " 'protected': False,\n",
       " 'favourites_count': 0,\n",
       " 'created_at': 'Tue Oct 06 01:13:17 +0000 2009',\n",
       " 'profile_link_color': '0084B4',\n",
       " 'name': 'GG',\n",
       " 'show_all_inline_media': False,\n",
       " 'follow_request_sent': None,\n",
       " 'geo_enabled': False,\n",
       " 'profile_sidebar_border_color': 'C0DEED',\n",
       " 'url': None,\n",
       " 'id': 80177619,\n",
       " 'contributors_enabled': False,\n",
       " 'following': None,\n",
       " 'utc_offset': -36000}"
      ]
     },
     "execution_count": 43,
     "metadata": {},
     "output_type": "execute_result"
    }
   ],
   "source": [
    "# So that's a pretty huge set of key:value pairs.\n",
    "# Some are even nested.\n",
    "# Let's say you want just the user information.  \n",
    "# That's at the top level so we can just ask for the following\n",
    "twitter_json['user']"
   ]
  },
  {
   "cell_type": "code",
   "execution_count": 44,
   "metadata": {
    "id": "TMrobL2TxnL9"
   },
   "outputs": [
    {
     "data": {
      "text/plain": [
       "80177619"
      ]
     },
     "execution_count": 44,
     "metadata": {},
     "output_type": "execute_result"
    }
   ],
   "source": [
    "#To drill down further you just use another set of brackets.\n",
    "#Let's get the user ID from within user.\n",
    "twitter_json['user']['id']"
   ]
  },
  {
   "cell_type": "code",
   "execution_count": 45,
   "metadata": {
    "id": "FQcKIyXpx51b"
   },
   "outputs": [
    {
     "data": {
      "text/plain": [
       "{'user_mentions': [{'indices': [3, 19],\n",
       "   'screen_name': 'PostGradProblem',\n",
       "   'id_str': '271572434',\n",
       "   'name': 'PostGradProblems',\n",
       "   'id': 271572434}],\n",
       " 'urls': [],\n",
       " 'hashtags': []}"
      ]
     },
     "execution_count": 45,
     "metadata": {},
     "output_type": "execute_result"
    }
   ],
   "source": [
    "# What's in entities?\n",
    "twitter_json['entities']"
   ]
  },
  {
   "cell_type": "code",
   "execution_count": 46,
   "metadata": {
    "id": "hcNgvZiFyXuo"
   },
   "outputs": [
    {
     "data": {
      "text/plain": [
       "'PostGradProblem'"
      ]
     },
     "execution_count": 46,
     "metadata": {},
     "output_type": "execute_result"
    }
   ],
   "source": [
    "# Let's see if we can grab the username of who the user is mentioning\n",
    "twitter_json['entities']['user_mentions'][0]['screen_name']"
   ]
  },
  {
   "cell_type": "markdown",
   "metadata": {
    "id": "DrQUEv0gysSt"
   },
   "source": [
    "So that worked!  One tricky thing - In this case screen name was in a dictionary that was inside a list.  So I had to call up the first position of that list of values associated with the `user_mentions` by using `[0]`.  Then I was able to select values by keys again.  \n",
    "\n",
    "We'll be doing more of this later, but for now I hope you can start to see how given a bunch of JSON data you could extract the relevant columns, store them in a list and then make an easy to use dataframe. "
   ]
  },
  {
   "cell_type": "markdown",
   "metadata": {
    "id": "PWLc3r5GzQLu"
   },
   "source": [
    "# Wrapping up\n",
    "\n",
    "Don't worry if you didn't get every single thing in this lesson. Again, it's more to just reorient everyone with some python basics while also building a bit of a foundation that we'll carry on into the following weeks.  We'll be dedicating whole weeks just to transforms and working with JSON data, so any confusion will be clarified then.  "
   ]
  }
 ],
 "metadata": {
  "colab": {
   "collapsed_sections": [
    "lq91rJtG4wpa",
    "j7Tq1D20KBey",
    "-stUPynmNV4p"
   ],
   "provenance": []
  },
  "kernelspec": {
   "display_name": "Python 3 (ipykernel)",
   "language": "python",
   "name": "python3"
  },
  "language_info": {
   "codemirror_mode": {
    "name": "ipython",
    "version": 3
   },
   "file_extension": ".py",
   "mimetype": "text/x-python",
   "name": "python",
   "nbconvert_exporter": "python",
   "pygments_lexer": "ipython3",
   "version": "3.9.12"
  },
  "vscode": {
   "interpreter": {
    "hash": "1fb55d7aa25be6a0d1b05945fd452f99000de08d1565fa92660548580a69c966"
   }
  }
 },
 "nbformat": 4,
 "nbformat_minor": 1
}
