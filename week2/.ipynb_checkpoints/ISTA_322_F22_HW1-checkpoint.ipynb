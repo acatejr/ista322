{
 "cells": [
  {
   "cell_type": "markdown",
   "metadata": {
    "id": "NC8f7soL0uZJ"
   },
   "source": [
    "# ISTA 322 Homework 1\n",
    "\n",
    "Welcome to your first homework!  This one is focused on just practicing some of the exercises covered in the last coding lesson.  There are also some more open-ended questions with elements that I didn't demonstrate in that lesson... they're structurally similar, but you might need to google a thing or two to figure out the correction function.  \n",
    "\n",
    "You need to add your own code blocks to answer any of the coding questions.  Also, at the end of some sections I have a 'questions' section.  Add a text cell right below and enter your answers. "
   ]
  },
  {
   "cell_type": "markdown",
   "metadata": {
    "id": "7j_NSultJDMy"
   },
   "source": [
    "#Submission Instruction\n",
    "\n",
    "1) First create a copy of this notebook in your drive and rename it to \"ISTA_322_F22_HW1_yourname\". \n",
    "\n",
    "2) When you are ready to submit. Prepare three files: the python file (File->Download->Download .py), the notebook file (File->Download->Download .ipynb), and **PDF** version of your notebook (**after running all cells**). \n",
    "\n",
    "3) Create the directory with your name put all three files in it, ZIP, and submit in D2L. \n"
   ]
  },
  {
   "cell_type": "markdown",
   "metadata": {
    "id": "Zw99uzuT1vLk"
   },
   "source": [
    "## Loading and Importing\n",
    "\n",
    "First thing you need to do is load up your packages and then bring in the data.  \n",
    "\n",
    "This dataset contains daily values for Amazon's stock.  This includes opening, closing, high price, low price, and also the amount of stock traded. "
   ]
  },
  {
   "cell_type": "code",
   "execution_count": 2,
   "metadata": {
    "id": "qSPHhsZlyowG"
   },
   "outputs": [],
   "source": [
    "import pandas as pd\n",
    "# also import matplotlib.pyplot and numpy with the proper aliases\n",
    "import numpy as np\n",
    "import matplotlib.pyplot as plt\n"
   ]
  },
  {
   "cell_type": "code",
   "execution_count": 3,
   "metadata": {
    "id": "tvgt5t51yaKN"
   },
   "outputs": [],
   "source": [
    "# Bring in your data. You just need to run this cell.\n",
    "price = pd.read_csv(\"https://docs.google.com/spreadsheets/d/1lCkFZhz-NGTuE1ZilzJA_ZYBZsbCSDpS2MllyGZWjX4/gviz/tq?tqx=out:csv\")"
   ]
  },
  {
   "cell_type": "markdown",
   "metadata": {
    "id": "bZCHUmA72PvI"
   },
   "source": [
    "## Exploring the whole dataset\n",
    "\n",
    "Now make some code cells to explore the whole dataset.  I want you to do the following:\n",
    "\n",
    "- Get the number of rows and columns\n",
    "- Get the datatypes of each column\n",
    "- Look at the first five rows\n",
    "- Look at the last five rows\n",
    "- Look at summary statistics"
   ]
  },
  {
   "cell_type": "markdown",
   "metadata": {
    "id": "zh8bXhN98PlZ"
   },
   "source": [
    "### Questions\n",
    "Write down Pandas instruction to answer these queries.\n",
    "- How many rows are in this dataset?\n",
    "- Do any datatypes need to be converted?\n",
    "- What was the mean and all time high opening stock price?"
   ]
  },
  {
   "cell_type": "markdown",
   "metadata": {
    "id": "-oCBYVx1vxS3"
   },
   "source": [
    "Q1: [2 points] How many rows are in this dataset?\n"
   ]
  },
  {
   "cell_type": "code",
   "execution_count": null,
   "metadata": {
    "id": "FnSWBsml6NdD"
   },
   "outputs": [],
   "source": [
    "#do not change the function name\n",
    "def price_number_of_row():\n",
    "  return 0 ##replace this line with return of the correct statement"
   ]
  },
  {
   "cell_type": "markdown",
   "metadata": {
    "id": "YSmKJrwt7jcc"
   },
   "source": [
    "As an example, I will provide the answer to this question:"
   ]
  },
  {
   "cell_type": "code",
   "execution_count": null,
   "metadata": {
    "id": "MCIlu0wK64f7"
   },
   "outputs": [],
   "source": [
    "def price_number_of_row_key():\n",
    "  return price.count();\n"
   ]
  },
  {
   "cell_type": "markdown",
   "metadata": {
    "id": "iW1DdW3s7piX"
   },
   "source": [
    "This is how I will check your code:"
   ]
  },
  {
   "cell_type": "code",
   "execution_count": null,
   "metadata": {
    "id": "GhVbLq6ABqm4"
   },
   "outputs": [],
   "source": [
    "score = {}"
   ]
  },
  {
   "cell_type": "code",
   "execution_count": null,
   "metadata": {
    "id": "8BKgEWLL7K6Z"
   },
   "outputs": [],
   "source": [
    "if np.all(price_number_of_row() == price_number_of_row_key()):\n",
    "  score['q1'] = 2;\n",
    "else:\n",
    "  score['q1'] = 0;"
   ]
  },
  {
   "cell_type": "code",
   "execution_count": null,
   "metadata": {
    "id": "eY-52Ktz8Gp8"
   },
   "outputs": [],
   "source": [
    "score"
   ]
  },
  {
   "cell_type": "markdown",
   "metadata": {
    "id": "uEIaffXC9Zga"
   },
   "source": [
    "Question 2: [2 points] Convert the datatype of 'Date' to an appropriate type "
   ]
  },
  {
   "cell_type": "code",
   "execution_count": null,
   "metadata": {
    "id": "_4E66yTS9v9J"
   },
   "outputs": [],
   "source": [
    "def convert_date_type():\n",
    "  pass #replace this line with the correct state. You don't need to return "
   ]
  },
  {
   "cell_type": "markdown",
   "metadata": {
    "id": "igQuGDKN-nfd"
   },
   "source": [
    "I give you the grader statement for this one too: "
   ]
  },
  {
   "cell_type": "code",
   "execution_count": null,
   "metadata": {
    "id": "YbJA0CF--gPF"
   },
   "outputs": [],
   "source": [
    "convert_date_type()\n",
    "if price.Date.dtype == \"datetime64[ns]\":\n",
    "  score['q2'] = 2;"
   ]
  },
  {
   "cell_type": "code",
   "execution_count": null,
   "metadata": {
    "id": "d-K-3e3N-YNs"
   },
   "outputs": [],
   "source": [
    "score"
   ]
  },
  {
   "cell_type": "markdown",
   "metadata": {
    "id": "ZCiXROjTCSpC"
   },
   "source": [
    "Question 3: [2 points] What is the mean of all opening stock price?"
   ]
  },
  {
   "cell_type": "code",
   "execution_count": null,
   "metadata": {
    "id": "q-336loqCP3i"
   },
   "outputs": [],
   "source": [
    "def mean_of_opening():\n",
    "  return 0; #replace this with the correct statement"
   ]
  },
  {
   "cell_type": "markdown",
   "metadata": {
    "id": "PpWzamKW8SoX"
   },
   "source": [
    "Question 4: [4 points] What is the daily min volume for trades after 2010 (including 2010-1-1) "
   ]
  },
  {
   "cell_type": "code",
   "execution_count": null,
   "metadata": {
    "id": "IcvY-hi26qFi"
   },
   "outputs": [],
   "source": [
    "def min_daily_volume_after_2010():\n",
    "  #hint first construct a new dataframe by limiting the price for dates greater than 2010\n",
    "  return 0 #replace this with your answer"
   ]
  },
  {
   "cell_type": "code",
   "execution_count": null,
   "metadata": {
    "id": "oT90et_g97Md"
   },
   "outputs": [],
   "source": [
    "print(min_daily_volume_after_2010())"
   ]
  },
  {
   "cell_type": "markdown",
   "metadata": {
    "id": "Q_eXV-yO-YO0"
   },
   "source": [
    "Question 5: [4 points] Make a new column called up_binom. The value of up_binom is 1 if the closing price of the stock is higher (>=) than opening price, and 0 otherwise. Then find the number days the stock closed higher than openning.\n"
   ]
  },
  {
   "cell_type": "code",
   "execution_count": null,
   "metadata": {
    "id": "-NDzeA4j_Ese"
   },
   "outputs": [],
   "source": [
    "def number_of_green_days():\n",
    "  return 0; #replace this with your answer"
   ]
  },
  {
   "cell_type": "markdown",
   "metadata": {
    "id": "CQ0DdBLo_tfe"
   },
   "source": [
    "Question 5 [4 points] Plot the Closing price of the stock after 2020. The x-axis is day and the y-axis is the Closing price. \n",
    "Look at the examples here for more help https://matplotlib.org/stable/gallery/index.html)"
   ]
  },
  {
   "cell_type": "code",
   "execution_count": null,
   "metadata": {
    "id": "prLQFrNuAbGp"
   },
   "outputs": [],
   "source": [
    "#plot\n"
   ]
  },
  {
   "cell_type": "markdown",
   "metadata": {
    "id": "qyCr9-KWDRMj"
   },
   "source": [
    "\n",
    "\n",
    "Question 6: [4 points] If you had bought 1000$ worth Amazon stock (assume you could have fraction of stock too) on 2000-1-1 at opening, how much money would you have had on 2020-1-1 at closing?\n",
    "\n"
   ]
  },
  {
   "cell_type": "code",
   "execution_count": 4,
   "metadata": {
    "id": "c5Ar2LDdJGHr"
   },
   "outputs": [
    {
     "name": "stdout",
     "output_type": "stream",
     "text": [
      "0\n"
     ]
    }
   ],
   "source": [
    "# I'm going to make your life easier and set the date column you created as the index.\n",
    "# This will make searching and extracting the values much easier\n",
    "price = price.set_index('Date')\n",
    "\n",
    "def market_value(buy_date, sell_date):\n",
    "  return 0; #replace this with your answer\n",
    "\n",
    "print(market_value('2000-1-1', '2020-1-1'))"
   ]
  },
  {
   "cell_type": "markdown",
   "metadata": {
    "id": "S96lJStTQuTR"
   },
   "source": [
    "## JSON\n",
    "\n",
    "The last part of the assignment will have you working with some basic JSON data.  The URL links to a JSON file with stats on every episode of the TV show Silicon Valley\n"
   ]
  },
  {
   "cell_type": "code",
   "execution_count": null,
   "metadata": {
    "id": "SuhZceOOQvwq"
   },
   "outputs": [],
   "source": [
    "# First just run this to import the data\n",
    "import requests\n",
    "url = 'http://api.tvmaze.com/singlesearch/shows?q=Silicon Valley&embed=episodes'\n",
    "sv_json_obj = requests.get(url)\n",
    "sv_json = sv_json_obj.json()"
   ]
  },
  {
   "cell_type": "markdown",
   "metadata": {
    "id": "V6150nhdAdA0"
   },
   "source": [
    "### Viewing your JSON\n",
    "\n",
    "Now just to look at what's in the JSON a bit\n",
    "\n",
    "- Make a code cell that just calls the JSON we named above. \n",
    "- Also run the .keys() function on the object."
   ]
  },
  {
   "cell_type": "markdown",
   "metadata": {
    "id": "brWt89epBk2M"
   },
   "source": [
    "### Questions\n",
    "\n",
    "Based on these responses, what keys are present in the JSON.  More importantly, are there any keys that don't get returned by .keys()?"
   ]
  },
  {
   "cell_type": "code",
   "execution_count": null,
   "metadata": {
    "id": "ImsP-F-k_g9M"
   },
   "outputs": [],
   "source": [
    "# First, you can see the structure after moving down a level into '_embedded'\n",
    "sv_json['_embedded']"
   ]
  },
  {
   "cell_type": "markdown",
   "metadata": {
    "id": "dWoI037MHNFY"
   },
   "source": [
    "Question 7: [4 points] Get the day the show premiered. "
   ]
  },
  {
   "cell_type": "code",
   "execution_count": null,
   "metadata": {
    "id": "KAuJ25ChFhEy"
   },
   "outputs": [],
   "source": [
    "def get_airdate_first_episode():\n",
    "  return 0; #replace this with the correct statements \n"
   ]
  },
  {
   "cell_type": "markdown",
   "metadata": {
    "id": "i0xjtPM5HgMe"
   },
   "source": [
    "Question 8: [4 points] Get the summary of a specific episode."
   ]
  },
  {
   "cell_type": "code",
   "execution_count": null,
   "metadata": {
    "id": "32wqqo15HfbX"
   },
   "outputs": [],
   "source": [
    "def get_summary(season, episode):\n",
    "  return 0; # replace this with the correct statement"
   ]
  },
  {
   "cell_type": "code",
   "execution_count": null,
   "metadata": {
    "id": "2Dhhfm4FK4Mw"
   },
   "outputs": [],
   "source": []
  }
 ],
 "metadata": {
  "colab": {
   "collapsed_sections": [],
   "provenance": []
  },
  "kernelspec": {
   "display_name": "Python 3 (ipykernel)",
   "language": "python",
   "name": "python3"
  },
  "language_info": {
   "codemirror_mode": {
    "name": "ipython",
    "version": 3
   },
   "file_extension": ".py",
   "mimetype": "text/x-python",
   "name": "python",
   "nbconvert_exporter": "python",
   "pygments_lexer": "ipython3",
   "version": "3.9.12"
  }
 },
 "nbformat": 4,
 "nbformat_minor": 1
}
