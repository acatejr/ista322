{
 "cells": [
  {
   "cell_type": "markdown",
   "metadata": {
    "id": "Hm-lEcSS1qVm"
   },
   "source": [
    "# HW2 - Transforms!\n",
    " \n",
    "In this homework we'll be practicing some data aggregations, joins, and flattening JSON files in order to make inferences from two datasets!\n",
    " \n",
    "The first file is a dataset with 25,000,000 movie reviews.  These are already in flat files and are clean.  But, we obviously want to do some filtering (e.g. remove movies that only have a review or two).  And we'll want to do a couple of aggregations and joins to distill down those 25 million reviews into something understandable and useable.  \n",
    " \n",
    "The other dataset will have you going to Yelp and making a dev account.  You'll then access various bits of information about local businesses and their reviews in order to figure out which ones are doing the best in Covid times.  \n"
   ]
  },
  {
   "cell_type": "markdown",
   "metadata": {
    "id": "4dK6_6V0_VY0"
   },
   "source": [
    "## Wranging and aggregating movie review data\n",
    " \n",
    "The website MovieLens.com has a research group which provides open access to millions of reviews, for free!  We're going to work with those data for this homework.  [Feel free to check out the website here.](https://grouplens.org/datasets/movielens/)  You can go and download the raw data, but in order to make things a bit easier, the files have been uploaded the Google drive for fast direct downloads.  \n",
    " \n",
    "There are two datasets we'll be working with.\n",
    "* movies - this is a file of 60,000+ movies\n",
    "* reviews - this is a file of 25 *million* individual reviews for the 60k movies\n",
    " \n",
    "The goal for this section of the homework is to do two types of data aggregations that will allow for someone to make inferences on which movies were the most popular, reviewed, polarizing and were cult classics.  \n",
    " \n",
    "To do this we'll first start by making a simple data set that brings just overall review properties together with movies.  We'll then do some deeper groupings to create a dataset that looks at the same properties but over time. "
   ]
  },
  {
   "cell_type": "markdown",
   "metadata": {
    "id": "EGSFQInVD6ws"
   },
   "source": [
    "### Data first\n",
    " \n",
    "Let's bring in our two files and libraries.  The ratings file is understandably large.  So it's a good idea to download it and then save a copy as something else and work with that.  This way if you mess up you don't have to download it all over again\n"
   ]
  },
  {
   "cell_type": "code",
   "execution_count": 1,
   "metadata": {
    "id": "39GB_QJjD57f"
   },
   "outputs": [],
   "source": [
    "# Libraries\n",
    "import pandas as pd\n",
    "from datetime import datetime\n",
    "import seaborn as sns\n",
    "import matplotlib.pyplot as plt\n",
    "import numpy as np\n",
    "\n"
   ]
  },
  {
   "cell_type": "code",
   "execution_count": 2,
   "metadata": {
    "id": "6MZ0784dEfia"
   },
   "outputs": [],
   "source": [
    "# Movies data\n",
    "movies = pd.read_csv('https://itsa322.s3.us-east-2.amazonaws.com/movies.csv')"
   ]
  },
  {
   "cell_type": "code",
   "execution_count": 3,
   "metadata": {
    "id": "eIjN-nKyvnbu"
   },
   "outputs": [
    {
     "data": {
      "text/html": [
       "<div>\n",
       "<style scoped>\n",
       "    .dataframe tbody tr th:only-of-type {\n",
       "        vertical-align: middle;\n",
       "    }\n",
       "\n",
       "    .dataframe tbody tr th {\n",
       "        vertical-align: top;\n",
       "    }\n",
       "\n",
       "    .dataframe thead th {\n",
       "        text-align: right;\n",
       "    }\n",
       "</style>\n",
       "<table border=\"1\" class=\"dataframe\">\n",
       "  <thead>\n",
       "    <tr style=\"text-align: right;\">\n",
       "      <th></th>\n",
       "      <th>movieId</th>\n",
       "      <th>title</th>\n",
       "      <th>genres</th>\n",
       "    </tr>\n",
       "  </thead>\n",
       "  <tbody>\n",
       "    <tr>\n",
       "      <th>0</th>\n",
       "      <td>1</td>\n",
       "      <td>Toy Story (1995)</td>\n",
       "      <td>Adventure|Animation|Children|Comedy|Fantasy</td>\n",
       "    </tr>\n",
       "    <tr>\n",
       "      <th>1</th>\n",
       "      <td>2</td>\n",
       "      <td>Jumanji (1995)</td>\n",
       "      <td>Adventure|Children|Fantasy</td>\n",
       "    </tr>\n",
       "    <tr>\n",
       "      <th>2</th>\n",
       "      <td>3</td>\n",
       "      <td>Grumpier Old Men (1995)</td>\n",
       "      <td>Comedy|Romance</td>\n",
       "    </tr>\n",
       "    <tr>\n",
       "      <th>3</th>\n",
       "      <td>4</td>\n",
       "      <td>Waiting to Exhale (1995)</td>\n",
       "      <td>Comedy|Drama|Romance</td>\n",
       "    </tr>\n",
       "    <tr>\n",
       "      <th>4</th>\n",
       "      <td>5</td>\n",
       "      <td>Father of the Bride Part II (1995)</td>\n",
       "      <td>Comedy</td>\n",
       "    </tr>\n",
       "    <tr>\n",
       "      <th>...</th>\n",
       "      <td>...</td>\n",
       "      <td>...</td>\n",
       "      <td>...</td>\n",
       "    </tr>\n",
       "    <tr>\n",
       "      <th>62418</th>\n",
       "      <td>209157</td>\n",
       "      <td>We (2018)</td>\n",
       "      <td>Drama</td>\n",
       "    </tr>\n",
       "    <tr>\n",
       "      <th>62419</th>\n",
       "      <td>209159</td>\n",
       "      <td>Window of the Soul (2001)</td>\n",
       "      <td>Documentary</td>\n",
       "    </tr>\n",
       "    <tr>\n",
       "      <th>62420</th>\n",
       "      <td>209163</td>\n",
       "      <td>Bad Poems (2018)</td>\n",
       "      <td>Comedy|Drama</td>\n",
       "    </tr>\n",
       "    <tr>\n",
       "      <th>62421</th>\n",
       "      <td>209169</td>\n",
       "      <td>A Girl Thing (2001)</td>\n",
       "      <td>(no genres listed)</td>\n",
       "    </tr>\n",
       "    <tr>\n",
       "      <th>62422</th>\n",
       "      <td>209171</td>\n",
       "      <td>Women of Devil's Island (1962)</td>\n",
       "      <td>Action|Adventure|Drama</td>\n",
       "    </tr>\n",
       "  </tbody>\n",
       "</table>\n",
       "<p>62423 rows × 3 columns</p>\n",
       "</div>"
      ],
      "text/plain": [
       "       movieId                               title  \\\n",
       "0            1                    Toy Story (1995)   \n",
       "1            2                      Jumanji (1995)   \n",
       "2            3             Grumpier Old Men (1995)   \n",
       "3            4            Waiting to Exhale (1995)   \n",
       "4            5  Father of the Bride Part II (1995)   \n",
       "...        ...                                 ...   \n",
       "62418   209157                           We (2018)   \n",
       "62419   209159           Window of the Soul (2001)   \n",
       "62420   209163                    Bad Poems (2018)   \n",
       "62421   209169                 A Girl Thing (2001)   \n",
       "62422   209171      Women of Devil's Island (1962)   \n",
       "\n",
       "                                            genres  \n",
       "0      Adventure|Animation|Children|Comedy|Fantasy  \n",
       "1                       Adventure|Children|Fantasy  \n",
       "2                                   Comedy|Romance  \n",
       "3                             Comedy|Drama|Romance  \n",
       "4                                           Comedy  \n",
       "...                                            ...  \n",
       "62418                                        Drama  \n",
       "62419                                  Documentary  \n",
       "62420                                 Comedy|Drama  \n",
       "62421                           (no genres listed)  \n",
       "62422                       Action|Adventure|Drama  \n",
       "\n",
       "[62423 rows x 3 columns]"
      ]
     },
     "execution_count": 3,
     "metadata": {},
     "output_type": "execute_result"
    }
   ],
   "source": [
    "movies"
   ]
  },
  {
   "cell_type": "code",
   "execution_count": null,
   "metadata": {
    "id": "p0yc4ooJdcUC"
   },
   "outputs": [],
   "source": [
    "# Ratings data\n",
    "ratings = pd.read_csv('https://itsa322.s3.us-east-2.amazonaws.com/ratings.csv')"
   ]
  },
  {
   "cell_type": "code",
   "execution_count": null,
   "metadata": {
    "id": "qI52SkIGPmAW"
   },
   "outputs": [],
   "source": [
    "# Make a copy of ratings; Generally, it's good practice to keep original copies saved before starting to mess with them\n",
    "ratings_backup = ratings.copy"
   ]
  },
  {
   "cell_type": "markdown",
   "metadata": {
    "id": "iPR1QogNFAgm"
   },
   "source": [
    "## Explore your data - [3 points]\n",
    " \n",
    "Below take some time to explore your date.  \n",
    "In one cell, check the following items for **both** datasets:\n",
    " \n",
    "* Head and tail \n",
    "* Shape\n",
    "* Datatypes\n",
    "\n",
    "In a new cell:\n",
    "* The number of NaN values for the rating column of the ratings dataset\n",
    " \n",
    "**Task** Do the head,tail, and shape operations all in one cell.  Count the number of NaNs in another. "
   ]
  },
  {
   "cell_type": "code",
   "execution_count": null,
   "metadata": {
    "id": "E6hE7ikTYeGk"
   },
   "outputs": [],
   "source": [
    "# head, tail, shape of both datastes\n",
    "..."
   ]
  },
  {
   "cell_type": "code",
   "execution_count": null,
   "metadata": {
    "id": "NIxsJVC1F7jK"
   },
   "outputs": [],
   "source": [
    "# Get count of NaNs\n",
    "..."
   ]
  },
  {
   "cell_type": "markdown",
   "metadata": {
    "id": "IbY5XgE33Kmc"
   },
   "source": [
    "## Convert timestamp in ratings to a datetime. - [1.5 points]\n",
    " \n",
    "One issue that you can see from your exploration is that the ratings only have a timestamp.  This timestamp is measured in the number of seconds since 00:00:00 on January 1st, 1970.  You'll need to convert this to a datetime in order to actually do our later data aggregations.  \n",
    " \n",
    "You use `pd.to_datetime` on timestamps like this.  [For full details on the various ways to use this function please look at the Pandas documentation.](https://pandas.pydata.org/pandas-docs/stable/reference/api/pandas.to_datetime.html) Briefly, this is how it's used. \n",
    " \n",
    "```\n",
    ">>> pd.to_datetime(1490195805, unit='s')\n",
    "Timestamp('2017-03-22 15:16:45')\n",
    "```\n",
    " \n",
    "**Task** Make a new column in the movies dataframe called `review_dt` that contains the data from the timestamp column but converted to a datetime datatype.  \n",
    " \n",
    "Note, it's good practice to do this by first assigning the output to a test vector first, rather than directly adding the output to the dataframe. This allows you to make sure your operation did what you wanted before modifying your dataframe. Once you're confident of the output, you can assign the vector to the `reviews` dataframe as a new column. \n",
    " \n",
    "For example\n",
    "```\n",
    "test_vec = pd.to_datetime(arguments)\n",
    "test_vec # to check what it contains\n",
    "```"
   ]
  },
  {
   "cell_type": "code",
   "execution_count": null,
   "metadata": {
    "id": "ecldZK15dqQC"
   },
   "outputs": [],
   "source": [
    "# Make test vector\n",
    "... = ..."
   ]
  },
  {
   "cell_type": "code",
   "execution_count": null,
   "metadata": {
    "id": "0rWM0NKhowev"
   },
   "outputs": [],
   "source": [
    "# Check vector and datatype to make sure it make sense.  \n",
    "..."
   ]
  },
  {
   "cell_type": "code",
   "execution_count": null,
   "metadata": {
    "id": "RBXoYE2Mo1pR"
   },
   "outputs": [],
   "source": [
    "# Now ad this to the ratings dataframe\n",
    "..."
   ]
  },
  {
   "cell_type": "code",
   "execution_count": null,
   "metadata": {
    "id": "5RQV_35CdqdS"
   },
   "outputs": [],
   "source": [
    "# Check the head of your dataframe again\n",
    "..."
   ]
  },
  {
   "cell_type": "code",
   "execution_count": null,
   "metadata": {
    "id": "jt8syWKWdqji"
   },
   "outputs": [],
   "source": [
    "# What's the oldest and newest review?  It should be 1995-01-09 and 2019-11-21, respectively.\n",
    "..."
   ]
  },
  {
   "cell_type": "markdown",
   "metadata": {
    "id": "3lQ8tFNgpPjF"
   },
   "source": [
    "## Your first aggregation and join - [4.5 points]\n",
    "\n",
    "The first aggregation and join I want you to do is at the whole movie level.  Your movies dataframe should only have a single row for each movie, but there are obviously thousands of individual reviews for each of those movies. Our goal here is to produce some summary statistics about the reviews for each movie and then join them to the movies dataframe. \n",
    "\n",
    "**Task:** Do the following:\n",
    "* Create an aggregated dataframe called `ratings_by_movie`. This dataframe should be grouped by movie. Use `.agg()` to calculate the mean, standard deviation ('std'), and the number of reviews for each movie.  \n",
    "* Rename the columns of that dataframe `'movieId', 'rating_mean', 'rating_std', and 'rating_count'`\n",
    "* Join this new `ratings_by_movie` dataframe such that it attaches all those summary statistics to their corresponding movies from the 'movies' dataframe.\n",
    "* Call the joined dataframe `movies_with_ratings`"
   ]
  },
  {
   "cell_type": "code",
   "execution_count": null,
   "metadata": {
    "id": "1diokGd0fghb"
   },
   "outputs": [],
   "source": [
    "# Make ratings_by_movie\n",
    "ratings_by_movie = ...(..., as_index=False)....(...)"
   ]
  },
  {
   "cell_type": "code",
   "execution_count": null,
   "metadata": {
    "id": "vaoGm6endqVu"
   },
   "outputs": [],
   "source": [
    "# Check it\n",
    "..."
   ]
  },
  {
   "cell_type": "code",
   "execution_count": null,
   "metadata": {
    "id": "eiNm1Qo4sUIr"
   },
   "outputs": [],
   "source": [
    "# Rename columns\n",
    "....columns = [...]"
   ]
  },
  {
   "cell_type": "code",
   "execution_count": null,
   "metadata": {
    "id": "gfwRPPcxrY71"
   },
   "outputs": [],
   "source": [
    "# Join it and call movies with ratings\n",
    "..."
   ]
  },
  {
   "cell_type": "code",
   "execution_count": null,
   "metadata": {
    "id": "_Ee4dKTTsIqd"
   },
   "outputs": [],
   "source": [
    "# Check movies_with_ratings.  \n",
    "..."
   ]
  },
  {
   "cell_type": "markdown",
   "metadata": {
    "id": "T7OgtiDVqJob"
   },
   "source": [
    "Is your merged dataframe 62423 rows × 6 columns?"
   ]
  },
  {
   "cell_type": "markdown",
   "metadata": {
    "id": "V7asUN4XtlA6"
   },
   "source": [
    "## Filtering and more transformations - [3 points]\n",
    " \n",
    "Now we want to clean up this dataset a bit and then do a couple more transforms. One issue you can see from your check above is that many movies only have one rating.  We're going to choose to set a minimum number of reviews needed to be included.  We also want to do some binning where movies with certain ratings levels \n",
    " \n",
    "**Task:** Please do the following operations\n",
    "* Filter `movies_with_ratings` so it only contains movies that have at least 10 ratings\n",
    "* Use the function `cut()` to automatically bin our `rating_mean` column into three groups of 'bad', 'fine', or 'good' movies.  Call this `rating_group`.\n",
    "* Use the same function to take the standard deviation in rating and make three groups of 'agreement', 'average', 'controversial'.  Thus, movies with low standard deviation have agreement in the rating, while movies with high standard deviation have controversy in the ratings.  Call this column `ratings_agreement`."
   ]
  },
  {
   "cell_type": "code",
   "execution_count": null,
   "metadata": {
    "id": "A-q2L_UDtoVU"
   },
   "outputs": [],
   "source": [
    "# Filter first being sure to overwrite dataframe\n",
    "..."
   ]
  },
  {
   "cell_type": "code",
   "execution_count": null,
   "metadata": {
    "id": "51jG155vvC64"
   },
   "outputs": [],
   "source": [
    "# Check how many rows you're left with. You should have a little over 24000\n",
    "..."
   ]
  },
  {
   "cell_type": "markdown",
   "metadata": {
    "id": "Gdax-0B9x2dN"
   },
   "source": [
    "I didn't show you how to use `cut()` in the lesson, but it's a transform just like anything else.  You could use a `np.where()` statement like we did, but `cut()` is a bit easier.  All it does is take 1) a column as the first argument, 2) the number of bins you want to group it in as the second argument, and then 3) the labels you want to give those bins as the third.  It automatically divides them up into equal sized bins. \n",
    " \n",
    "For example, if I make the following list:\n",
    "```\n",
    "rating = [2, 4, 9, 8, 5, 3, 6, 10, 2, 1, 6, 7]\n",
    "```\n",
    " \n",
    "And run `cut()` on it with three bins and levels 'bad', 'fine', and 'good':\n",
    "```\n",
    "pd.cut(rating, 3, labels=['bad', 'fine', 'good'])\n",
    "```\n",
    " \n",
    "I get a return of:\n",
    "```\n",
    "[bad, bad, good, good, fine, ..., good, bad, bad, fine, fine]\n",
    "Length: 12\n",
    "Categories (3, object): [bad < fine < good]\n",
    "```\n",
    " \n",
    "Note how it orders them for you based on the order of the labels.  "
   ]
  },
  {
   "cell_type": "code",
   "execution_count": null,
   "metadata": {
    "id": "SYVhXGaGx1-7"
   },
   "outputs": [],
   "source": [
    "# If you want to test it!\n",
    "rating = [2, 4, 9, 8, 5, 3, 6, 10, 2, 1, 6, 7]\n",
    "pd.cut(rating, 3, labels=['bad', 'fine', 'good'])"
   ]
  },
  {
   "cell_type": "code",
   "execution_count": null,
   "metadata": {
    "id": "3DVYIrbDvG4i"
   },
   "outputs": [],
   "source": [
    "# Now make 'bad', 'fine', 'good' levels for ratings\n",
    "# Assign to new column called 'rating_group'  \n",
    "...['...'] = pd.cut(...['...'], 3, labels=['bad', 'fine', 'good'])"
   ]
  },
  {
   "cell_type": "code",
   "execution_count": null,
   "metadata": {
    "id": "VmC2I-kFwWgo"
   },
   "outputs": [],
   "source": [
    "# Check it\n",
    "movies_with_ratings"
   ]
  },
  {
   "cell_type": "markdown",
   "metadata": {
    "id": "-AA4ffUqrHoU"
   },
   "source": [
    "Do Toy Story and Jumanji have 'good' ratings?  Does Grumpier Old Men have a 'fair' rating?"
   ]
  },
  {
   "cell_type": "code",
   "execution_count": null,
   "metadata": {
    "id": "xZpmz44l0AZB"
   },
   "outputs": [],
   "source": [
    "# Now use cut() again to create your ratings_agreement column.  \n",
    "# Use three bins and order of 'agreement', 'average',  and 'controversial'\n",
    "... = ..."
   ]
  },
  {
   "cell_type": "code",
   "execution_count": null,
   "metadata": {
    "id": "jQ1Nk7nbIkhl"
   },
   "outputs": [],
   "source": [
    "# Check to make sure that your bin categories make sense. e.g. 'good' movies should have higher ratings than 'fine', 'controversial' movies should ... ?\n",
    "... "
   ]
  },
  {
   "cell_type": "markdown",
   "metadata": {
    "id": "SwMX5K530m-j"
   },
   "source": [
    "###  Exploring our data \n",
    " \n",
    "Making bins like this allows us to figure out things like which movies are both bad, but have differing opinions on.  For example, we can filter out movies that are in the bad category but have a lot of controversy about those ratings.  This could mean they're 'cult classic' movies where despite the low rating some people actually really love the movies.  \n",
    " \n",
    "A dataset like this could be used in a recommendation engine where if you see people liking these 'bad but good' movies you could suggest others that meet the came criteria.  \n",
    "\n",
    "**Task:** There are no points here - only code to let you make figures to see what the dataset could be used for. Also, if this code works it means you probably did your answers above are right :)"
   ]
  },
  {
   "cell_type": "code",
   "execution_count": null,
   "metadata": {
    "id": "8k2C-Lzs0Z33"
   },
   "outputs": [],
   "source": [
    "movies_with_ratings[(movies_with_ratings['rating_group'] == 'bad') & \n",
    "                    (movies_with_ratings['rating_agreement'] == 'controversial') & \n",
    "                    (movies_with_ratings['rating_count'] >= 100)]"
   ]
  },
  {
   "cell_type": "markdown",
   "metadata": {
    "id": "vzYoxaS9qZhf"
   },
   "source": [
    "Birdemic: Shock and Terror :D - I think I would prefer a Birdemic to a pandemic!"
   ]
  },
  {
   "cell_type": "markdown",
   "metadata": {
    "id": "zPBvEkD42NDF"
   },
   "source": [
    "## Grouping within years - [3 point]\n",
    " \n",
    "Now that we've done our overall grouping by movie, let's get a bit more detail about these ratings. Specifically, let's engineer a dataset that breaks down the average rating not only by movie, but also by the year the person provided the review.  This would allow for someone to see which movies continue to do well over time, which ones become more popular, and which ones don't age well!\n",
    " \n",
    "**Task:** You're going to do the following steps:\n",
    "* Create a new `ratings_by_movie` that groups both by `movieId` but also by your `review_dt` column.  I want you to group into year intervals.  \n",
    "* Join `movies` to `ratings_by_movie` so that you have the summary review statistics for each year the movie has been out\n",
    "* Clean up and filter your dataframe"
   ]
  },
  {
   "cell_type": "markdown",
   "metadata": {
    "id": "tioZCC2YB7Qa"
   },
   "source": [
    "First, create `ratings_by_movie`.  You can group by two levels by just adding a list of what levels you want to group by in the `groupby()` statement.  I'll give you some help there, but you have to complete the rest in order to group by movieId first and review_dt second. "
   ]
  },
  {
   "cell_type": "code",
   "execution_count": null,
   "metadata": {
    "id": "nXvUmhqxyiAp"
   },
   "outputs": [],
   "source": [
    "# Note the groupby syntax.  I first am grouping by movieId\n",
    "# But then also am calling dt.year on our datetime column\n",
    "# This will then tell Python to do the aggregations within year as well\n",
    "... = .......(['...', ratings['review_dt'].dt.year]).agg(...)"
   ]
  },
  {
   "cell_type": "code",
   "execution_count": null,
   "metadata": {
    "id": "jZ8EJYtD0QXM"
   },
   "outputs": [],
   "source": [
    "# Check\n",
    "..."
   ]
  },
  {
   "cell_type": "markdown",
   "metadata": {
    "id": "owv03D5lCh6s"
   },
   "source": [
    "You need to rename columns, but this is a bit trickier as you have two levels of your dataframe index. I'm going to give you the code below.  But, what it's doing is resetting that one level of the index `review_dt` and putting it back as a regular column.  I'm then renaming the resulting columns. "
   ]
  },
  {
   "cell_type": "code",
   "execution_count": null,
   "metadata": {
    "id": "J-Xp1BY_dp3r"
   },
   "outputs": [],
   "source": [
    "# Reset index\n",
    "ratings_by_movie = ratings_by_movie.reset_index(level = 'review_dt')\n",
    "ratings_by_movie.columns = ['year', 'rating_mean', 'rating_std', 'rating_count']\n",
    "ratings_by_movie"
   ]
  },
  {
   "cell_type": "code",
   "execution_count": null,
   "metadata": {
    "id": "q9EFQCOshC4U"
   },
   "outputs": [],
   "source": [
    "# Now join the movie dataframe onto ratings_by_movie\n",
    "... = ..."
   ]
  },
  {
   "cell_type": "code",
   "execution_count": null,
   "metadata": {
    "id": "yBLjjJ880vvh"
   },
   "outputs": [],
   "source": [
    "# Check\n",
    "..."
   ]
  },
  {
   "cell_type": "code",
   "execution_count": null,
   "metadata": {
    "id": "XJ3nToeiDmOi"
   },
   "outputs": [],
   "source": [
    "# How many rows are there in the resulting dataframe?\n",
    "..."
   ]
  },
  {
   "cell_type": "markdown",
   "metadata": {
    "id": "HiEw5JSvrRrL"
   },
   "source": [
    "In your dataframe do you see Toy Story having a mean rating of 4.132756 in 1996?  Is your dataframe 323737 rows × 7 columns?"
   ]
  },
  {
   "cell_type": "markdown",
   "metadata": {
    "id": "3_7syYtlE6gI"
   },
   "source": [
    "### A quick plot\n",
    "\n",
    "Now you have a dataset where one could explore how movies have done over time. I've made a couple plots below to show you want I mean."
   ]
  },
  {
   "cell_type": "code",
   "execution_count": null,
   "metadata": {
    "id": "XbtQBaBeFkod"
   },
   "outputs": [],
   "source": [
    "# What movie has the max rating?\n",
    "movies_with_ratings.loc[movies_with_ratings['rating_count'] == movies_with_ratings['rating_count'].max()]"
   ]
  },
  {
   "cell_type": "code",
   "execution_count": null,
   "metadata": {
    "id": "FnlX1JKNhOo_"
   },
   "outputs": [],
   "source": [
    "# Grabbing just the ID for that movie. \n",
    "movies_with_ratings['movieId'][movies_with_ratings['rating_count'] == movies_with_ratings['rating_count'].max()].values[0]"
   ]
  },
  {
   "cell_type": "code",
   "execution_count": null,
   "metadata": {
    "id": "bImfyPtG088g"
   },
   "outputs": [],
   "source": [
    "# Forest gump has been reviewed over 80000 times!  \n",
    "# Let's extract that movie id to an object and then make just that dataframe\n",
    "most_viewed_id = movies_with_ratings['movieId'][movies_with_ratings['rating_count'] == movies_with_ratings['rating_count'].max()].values[0]\n",
    "\n",
    "most_viewed_df = ratings_by_movie[ratings_by_movie['movieId'] == most_viewed_id]\n",
    "most_viewed_df"
   ]
  },
  {
   "cell_type": "code",
   "execution_count": null,
   "metadata": {
    "id": "eAjP5del1KtX"
   },
   "outputs": [],
   "source": [
    "#  A quick lineplot shows that although forest gump has a really high rating on average, it seems to have some bad years for some reason.\n",
    "sns.lineplot(data = most_viewed_df, x = 'year', y = 'rating_mean')"
   ]
  },
  {
   "cell_type": "markdown",
   "metadata": {
    "id": "XUJh36KJHR1W"
   },
   "source": [
    "You can also look up some of your favorite movies.  I actually love the movie 'Dredd', even though many people hated it.  We can search in the titles for movies we like, and then call that ID to filter a new dataframe.  We can then make some plots"
   ]
  },
  {
   "cell_type": "code",
   "execution_count": null,
   "metadata": {
    "id": "XmVzdCTNKRtI"
   },
   "outputs": [],
   "source": [
    "# Search for Dredd\n",
    "movies_with_ratings[movies_with_ratings['title'].str.contains('Dredd')]"
   ]
  },
  {
   "cell_type": "code",
   "execution_count": null,
   "metadata": {
    "id": "cHvRgMtcHQR5"
   },
   "outputs": [],
   "source": [
    "# Call the dredd to make a dataframe\n",
    "dredd_id = movies_with_ratings['movieId'][movies_with_ratings['title'].str.contains('^Dredd')].values[0]\n",
    "dredd_df = ratings_by_movie[ratings_by_movie['movieId'] == dredd_id]\n",
    "dredd_df"
   ]
  },
  {
   "cell_type": "code",
   "execution_count": null,
   "metadata": {
    "id": "AibrzL2qK82t"
   },
   "outputs": [],
   "source": [
    "# Our plot shows that the year after release it was reviewed pretty poorly, \n",
    "# but the score gradually grew as people realized how awesome it was :)\n",
    "sns.lineplot(x = 'year', y = 'rating_mean', data = dredd_df)"
   ]
  },
  {
   "cell_type": "markdown",
   "metadata": {
    "id": "0gnJUY4rMsiK"
   },
   "source": [
    "## Flatting JSON data from Yelp\n",
    " \n",
    "For this second part of the assignment we're going to be using the Yelp API via the python package `yelpapi`.  Like with the Spotify API, you need to go get a yelp developer account here: https://www.yelp.com/fusion. \n",
    "When you try to create an app, it asks for name, description and contact info. The it gives you clientid and api key. \n",
    " \n",
    "The goal will be to make a dataset of local taco places that are doing well during Coronavirus. Specifically, we want to make a dataset that takes their average score since they've been open and compares it to the average score of the last three reviews.  Shops that have been doing well should hopefully have these two averages be similar. \n",
    " \n",
    "There will be three main steps to this process:\n",
    " \n",
    "* First you'll search by location type and get aggregate information for everything that falls in the ice cream category.\n",
    "* Second you'll get reviews for all those locations.  Yelp only returns three reviews when you call an ID, but that still works. Given you can only query one ID at a time, you'll need to write a loop to create a dataframe of all the reviews.  \n",
    "* Third, you'll aggregate the latest review information to see how their average review score compares to their overall average review score.  "
   ]
  },
  {
   "cell_type": "code",
   "execution_count": null,
   "metadata": {
    "id": "y-4mybJavcJV"
   },
   "outputs": [],
   "source": [
    "# Mount google drive\n",
    "import os, sys\n",
    "from google.colab import drive\n",
    "drive.mount('/content/mnt')\n",
    "nb_path = '/content/notebooks'\n",
    "os.symlink('/content/mnt/My Drive/Colab Notebooks', nb_path)\n",
    "sys.path.insert(0, nb_path)  # or append(nb_path)"
   ]
  },
  {
   "cell_type": "code",
   "execution_count": null,
   "metadata": {
    "id": "JRGKRj6c2fOF"
   },
   "outputs": [],
   "source": [
    "# Install yelpapi once. Tomorrow, you can skip this.\n",
    "!pip install --target=$nb_path yelpapi"
   ]
  },
  {
   "cell_type": "code",
   "execution_count": null,
   "metadata": {
    "id": "FK9qOuArYia8"
   },
   "outputs": [],
   "source": [
    "# Now enter your API key so you can make requests\n",
    "from yelpapi import YelpAPI\n",
    "from pandas.io.json import json_normalize\n",
    "# yelp_api = YelpAPI('ENTER YOUR KEY HERE')\n",
    "api_key = 'ENTER YOUR KEY HERE'\n",
    "yelp_api = YelpAPI(api_key)\n"
   ]
  },
  {
   "cell_type": "markdown",
   "metadata": {
    "id": "cMj50Z03kBWt"
   },
   "source": [
    "### Making calls to with Yelp API\n",
    "\n",
    "There are many functions in the `yelpapi` package.  The first one we'll use is `search_query()`.  You can put in a term you want to search for followed up by the location and it'll give you all the locations that match.  For example, the following would search for all ice cream places here in Tucson.\n",
    "\n",
    "```\n",
    "ice = yelp_api.search_query(term = 'ice cream', location = 'Tucson, AZ')\n",
    "```\n",
    "\n",
    "This will give you a response of all the ice cream places in Tucson. It'll be in JSON form so will need flattening before being useful. "
   ]
  },
  {
   "cell_type": "markdown",
   "metadata": {
    "id": "FLRf120imkkc"
   },
   "source": [
    "### Getting all taco shops and flattening - [3 points]\n",
    "\n",
    "**Task:** Start by making a dataframe that uses the `search_query()` function to search using the term 'taco'.  Call this `taco_shops`.  After that, flatten the json results to `taco_shops_df`. "
   ]
  },
  {
   "cell_type": "code",
   "execution_count": null,
   "metadata": {
    "id": "j0qLoWa5SnlA"
   },
   "outputs": [],
   "source": [
    "# search for taco shops and store to taco_shops\n",
    "... = yelp_api.search_query(...,  ...)"
   ]
  },
  {
   "cell_type": "code",
   "execution_count": null,
   "metadata": {
    "id": "tHuZEmWKUWFS"
   },
   "outputs": [],
   "source": [
    "# Look at taco_shops\n",
    "..."
   ]
  },
  {
   "cell_type": "code",
   "execution_count": null,
   "metadata": {
    "id": "LEbc8hBMosE3"
   },
   "outputs": [],
   "source": [
    "# What keys are present?\n",
    "..."
   ]
  },
  {
   "cell_type": "markdown",
   "metadata": {
    "id": "DT4CMQ_HoysJ"
   },
   "source": [
    "Now use the json_normalize function to flatten `taco_shops`.  Note that you need to select the key that contains the businesses when flattening.  But this one is easier than the examples from the homework in that you don't need to provide any other arguments.  \n",
    " \n",
    "Store the result as `taco_shops_df`\n",
    " \n",
    "After that select only the columns 'id', 'alias', 'name', 'review_count', and 'rating'."
   ]
  },
  {
   "cell_type": "code",
   "execution_count": null,
   "metadata": {
    "id": "XEM0ShY-E7Gz"
   },
   "outputs": [],
   "source": [
    "# Flatten to taco_shops_df\n",
    "taco_shops_df = ...\n",
    "taco_shops_df.head() # Check"
   ]
  },
  {
   "cell_type": "code",
   "execution_count": null,
   "metadata": {
    "id": "AYqZknYopfsH"
   },
   "outputs": [],
   "source": [
    "# Select only necessary columns\n",
    "... = ....[['...', '...', ...]]\n",
    "taco_shops_df.shape # Check shape.  Is it 20 x 5?"
   ]
  },
  {
   "cell_type": "markdown",
   "metadata": {
    "id": "W91ds4_hrOq4"
   },
   "source": [
    "## Getting reviews for the taco shops - [6 points]\n",
    " \n",
    "Now we're going to use the `reviews_query()` function to get the last three reviews for a given ID.  The issue here is that you can only feed it one ID at a time.  So, we'll have to write a loop that queries for each ID in `taco_shops_df` and builds out a dataframe of reviews.  \n",
    "\n",
    "**Task:**  Write a for loop that does the following steps:\n",
    "* First make an empty data frame outside of the loop called `taco_shops_reviews_df`\n",
    "* Initalize your loop so that it runs the length of `taco_shops_df` you made earlier.\n",
    "* For each i in loop, use the id from `taco_shops_df` to get reviews from yelp using the `reviews_query()` function in `yelp_api` and store it to an object called `reviews`.\n",
    "* Flatten `reviews` to an objected called `reviews_df`\n",
    "* Add `location_id` to `reviews_df` - I gave you the code to do this :)\n",
    "* Append `reviews_df` to `taco_shops_reviews_df` such that it builds out that dataframe with each `reviews_df` dataframe that's generated each loop.\n",
    "* After the loop is done select only the columns `'id', 'text', 'rating', 'time_created', 'location_id'`"
   ]
  },
  {
   "cell_type": "code",
   "execution_count": null,
   "metadata": {
    "id": "mt4ynTOZr9wL"
   },
   "outputs": [],
   "source": [
    "# Write our loop\n",
    ".... = pd.DataFrame()\n",
    "\n",
    "for i in ...:\n",
    "  ... = ...\n",
    "  ... = ...\n",
    "  reviews_df['location_id'] = taco_shops_df['id'][i]\n",
    "  ... = ... ....(...)"
   ]
  },
  {
   "cell_type": "code",
   "execution_count": null,
   "metadata": {
    "id": "pWEWCichIC5n"
   },
   "outputs": [],
   "source": [
    "# Select columns 'id', 'text', 'rating', 'time_created', 'location_id'\n",
    "..."
   ]
  },
  {
   "cell_type": "markdown",
   "metadata": {
    "id": "NO73i3jGuu0F"
   },
   "source": [
    "### Aggregating your review data - [3 points]\n",
    " \n",
    "**Task:** Now go and do a data aggregation to get the mean review score across the three reviews. Remember, we want this grouped by location_id.  Call this dataframe `latest_reviews_agg`.\n",
    " \n",
    "In your groupby you should set `as_index` to false to make joining on the ID values easier.\n",
    " \n",
    "You should also rename the second column to `rating_mean` vs. leaving it as the dual level name. \n"
   ]
  },
  {
   "cell_type": "code",
   "execution_count": null,
   "metadata": {
    "id": "WNKI9PQiIO2W"
   },
   "outputs": [],
   "source": [
    "# Do your groupby to get mean rating. \n",
    "# Call it latest_reviews_agg.\n",
    "... = ...(..., as_index=False)....."
   ]
  },
  {
   "cell_type": "code",
   "execution_count": null,
   "metadata": {
    "id": "9Skuffd6vozN"
   },
   "outputs": [],
   "source": [
    "# Check it! \n",
    "..."
   ]
  },
  {
   "cell_type": "code",
   "execution_count": null,
   "metadata": {
    "id": "LBgC9uGSvqKq"
   },
   "outputs": [],
   "source": [
    "# Rename so the two column names are 'location_id' and 'mean_rating'\n",
    "... = ..."
   ]
  },
  {
   "cell_type": "markdown",
   "metadata": {
    "id": "xhiS7p5zwkAe"
   },
   "source": [
    "### Join your two datasets and one last transform - [3 points]\n",
    " \n",
    "**Task:** Now it's time to join `latest_reviews_agg` back to your `taco_shops_df` dataframe.  You're going to want to join them on the location_id, but remember it is called just 'id' in the `taco_shops_df`  dataframe.  Call this joined dataset `taco_shops_comp` \n",
    " \n",
    "After you make that dataset do one last transform.  In this I want you to make a new column called 'still_good' where the value is 'yes' if the mean_rating is greater than or equal to the average rating since they opened, or 'no' if the rating has dropped.   The idea here is that this could be a value that one would use to see if their average score of the latest reviews has improved or suffered during Covid.  "
   ]
  },
  {
   "cell_type": "code",
   "execution_count": null,
   "metadata": {
    "id": "3-EqPtCbw5bB"
   },
   "outputs": [],
   "source": [
    "# Join and name taco_shops_comp\n",
    "..."
   ]
  },
  {
   "cell_type": "code",
   "execution_count": null,
   "metadata": {
    "id": "TciLXtc4xjo7"
   },
   "outputs": [],
   "source": [
    "# Make still_good column\n",
    "..."
   ]
  },
  {
   "cell_type": "code",
   "execution_count": null,
   "metadata": {
    "id": "r3hfzsTh12EU"
   },
   "outputs": [],
   "source": [
    "# So, do any locations have a lower average in their last three reviews compared to their average overall score?\n",
    "..."
   ]
  }
 ],
 "metadata": {
  "colab": {
   "collapsed_sections": [],
   "provenance": []
  },
  "kernelspec": {
   "display_name": "Python 3 (ipykernel)",
   "language": "python",
   "name": "python3"
  },
  "language_info": {
   "codemirror_mode": {
    "name": "ipython",
    "version": 3
   },
   "file_extension": ".py",
   "mimetype": "text/x-python",
   "name": "python",
   "nbconvert_exporter": "python",
   "pygments_lexer": "ipython3",
   "version": "3.9.12"
  },
  "vscode": {
   "interpreter": {
    "hash": "1fb55d7aa25be6a0d1b05945fd452f99000de08d1565fa92660548580a69c966"
   }
  }
 },
 "nbformat": 4,
 "nbformat_minor": 1
}
